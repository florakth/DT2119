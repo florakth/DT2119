{
  "nbformat": 4,
  "nbformat_minor": 0,
  "metadata": {
    "colab": {
      "name": "project cnn.ipynb",
      "provenance": []
    },
    "kernelspec": {
      "name": "python3",
      "display_name": "Python 3"
    },
    "accelerator": "GPU"
  },
  "cells": [
    {
      "cell_type": "code",
      "metadata": {
        "id": "y4k655_tmzjD",
        "colab_type": "code",
        "outputId": "583323f9-4ac7-444a-8aa4-79b32d3a3bb9",
        "colab": {
          "base_uri": "https://localhost:8080/",
          "height": 122
        }
      },
      "source": [
        "from google.colab import drive\n",
        "drive.mount('/content/drive')"
      ],
      "execution_count": 0,
      "outputs": [
        {
          "output_type": "stream",
          "text": [
            "Go to this URL in a browser: https://accounts.google.com/o/oauth2/auth?client_id=947318989803-6bn6qk8qdgf4n4g3pfee6491hc0brc4i.apps.googleusercontent.com&redirect_uri=urn%3aietf%3awg%3aoauth%3a2.0%3aoob&response_type=code&scope=email%20https%3a%2f%2fwww.googleapis.com%2fauth%2fdocs.test%20https%3a%2f%2fwww.googleapis.com%2fauth%2fdrive%20https%3a%2f%2fwww.googleapis.com%2fauth%2fdrive.photos.readonly%20https%3a%2f%2fwww.googleapis.com%2fauth%2fpeopleapi.readonly\n",
            "\n",
            "Enter your authorization code:\n",
            "··········\n",
            "Mounted at /content/drive\n"
          ],
          "name": "stdout"
        }
      ]
    },
    {
      "cell_type": "code",
      "metadata": {
        "id": "uSG270ySnUG_",
        "colab_type": "code",
        "outputId": "21c417e0-4a58-40f7-e5aa-869a4c1e654a",
        "colab": {
          "base_uri": "https://localhost:8080/",
          "height": 34
        }
      },
      "source": [
        "import pandas as pd\n",
        "import numpy as np\n",
        "from tqdm import trange\n",
        "import os \n",
        "import librosa\n",
        "import matplotlib.pyplot as plt \n",
        "import tensorflow as tf\n",
        "import itertools\n",
        "import glob\n",
        "from tensorflow.keras.utils import to_categorical\n",
        "from tensorflow.keras.backend import one_hot\n",
        "from tensorflow.keras.models import Model\n",
        "from tensorflow.keras.layers import Input\n",
        "from tensorflow.keras.models import Sequential\n",
        "from tensorflow.keras.layers import Add\n",
        "from tensorflow.keras.layers import Dense\n",
        "from tensorflow.keras.layers import Activation\n",
        "from tensorflow.keras.layers import PReLU\n",
        "from tensorflow.keras.layers import Conv2D\n",
        "from tensorflow.keras.layers import MaxPooling2D\n",
        "from tensorflow.keras.layers import AveragePooling2D\n",
        "from tensorflow.keras.layers import GlobalAveragePooling2D\n",
        "from tensorflow.keras.layers import GlobalMaxPooling2D\n",
        "from tensorflow.keras.layers import Dropout\n",
        "from tensorflow.keras.layers import Flatten\n",
        "from tensorflow.keras.layers import BatchNormalization\n",
        "from tensorflow.keras.callbacks import ReduceLROnPlateau\n",
        "from sklearn.metrics import confusion_matrix\n",
        "from collections import OrderedDict\n",
        "from sklearn.preprocessing import StandardScaler\n",
        "from sklearn.model_selection import train_test_split\n",
        "from keras import models\n",
        "from keras import layers"
      ],
      "execution_count": 0,
      "outputs": [
        {
          "output_type": "stream",
          "text": [
            "Using TensorFlow backend.\n"
          ],
          "name": "stderr"
        }
      ]
    },
    {
      "cell_type": "markdown",
      "metadata": {
        "id": "HH3Rgnqs-EMZ",
        "colab_type": "text"
      },
      "source": [
        ""
      ]
    },
    {
      "cell_type": "code",
      "metadata": {
        "id": "1Tp0Twsbnx9S",
        "colab_type": "code",
        "colab": {}
      },
      "source": [
        "with np.load('/content/drive/My Drive/DT2119 project/data/mfcc_with_labels.npz',allow_pickle=True) as data:\n",
        "    X = data['MFCC']\n",
        "    y = data['labels']"
      ],
      "execution_count": 0,
      "outputs": []
    },
    {
      "cell_type": "code",
      "metadata": {
        "id": "OxGP9wmVrVvP",
        "colab_type": "code",
        "colab": {}
      },
      "source": [
        "def shuffle(X,Y):\n",
        "  index = np.random.permutation(X.shape[0])\n",
        "  Y = np.array(Y)\n",
        "  return X[index],Y[index]"
      ],
      "execution_count": 0,
      "outputs": []
    },
    {
      "cell_type": "code",
      "metadata": {
        "id": "USf0WgueoEza",
        "colab_type": "code",
        "outputId": "4b158103-723a-424a-913d-abea9c78ad30",
        "colab": {
          "base_uri": "https://localhost:8080/",
          "height": 34
        }
      },
      "source": [
        "X, Y = shuffle(X,y)\n",
        "N = X.shape[0]\n",
        "X_train,Y_train = X[:3*N//5],Y[:3*N//5]\n",
        "X_val,Y_val = X[3*N//5:4*N//5],Y[3*N//5:4*N//5]\n",
        "X_test,Y_test = X[4*N//5:],Y[4*N//5:]\n",
        "print(X_train.shape,Y_train.shape)"
      ],
      "execution_count": 0,
      "outputs": [
        {
          "output_type": "stream",
          "text": [
            "(600, 20, 1290) (600, 10)\n"
          ],
          "name": "stdout"
        }
      ]
    },
    {
      "cell_type": "code",
      "metadata": {
        "id": "a3afTQQfry7f",
        "colab_type": "code",
        "colab": {}
      },
      "source": [
        "scaler = StandardScaler()\n",
        "X_train = scaler.fit_transform(X_train.reshape(-1, X_train.shape[-1])).reshape(X_train.shape)\n",
        "X_val = scaler.transform(X_val.reshape(-1, X_test.shape[-1])).reshape(X_test.shape)\n",
        "X_test = scaler.transform(X_test.reshape(-1, X_test.shape[-1])).reshape(X_test.shape)"
      ],
      "execution_count": 0,
      "outputs": []
    },
    {
      "cell_type": "code",
      "metadata": {
        "id": "qhqWhtW7vpuq",
        "colab_type": "code",
        "outputId": "267694f4-b535-4cfb-b026-e91828d2ccc7",
        "colab": {
          "base_uri": "https://localhost:8080/",
          "height": 34
        }
      },
      "source": [
        "X_train.shape"
      ],
      "execution_count": 0,
      "outputs": [
        {
          "output_type": "execute_result",
          "data": {
            "text/plain": [
              "(600, 20, 1290)"
            ]
          },
          "metadata": {
            "tags": []
          },
          "execution_count": 7
        }
      ]
    },
    {
      "cell_type": "code",
      "metadata": {
        "id": "TG_H-wmfvvXk",
        "colab_type": "code",
        "outputId": "3d911df1-3f27-44c5-ca46-cd863fbc1f06",
        "colab": {
          "base_uri": "https://localhost:8080/",
          "height": 34
        }
      },
      "source": [
        "X_val.shape"
      ],
      "execution_count": 0,
      "outputs": [
        {
          "output_type": "execute_result",
          "data": {
            "text/plain": [
              "(200, 20, 1290)"
            ]
          },
          "metadata": {
            "tags": []
          },
          "execution_count": 9
        }
      ]
    },
    {
      "cell_type": "code",
      "metadata": {
        "id": "nu2aHBJGvy7l",
        "colab_type": "code",
        "outputId": "920d0049-7397-4375-f4ee-1e16df47c4ee",
        "colab": {
          "base_uri": "https://localhost:8080/",
          "height": 34
        }
      },
      "source": [
        "X_test.shape"
      ],
      "execution_count": 0,
      "outputs": [
        {
          "output_type": "execute_result",
          "data": {
            "text/plain": [
              "(200, 20, 1290)"
            ]
          },
          "metadata": {
            "tags": []
          },
          "execution_count": 10
        }
      ]
    },
    {
      "cell_type": "code",
      "metadata": {
        "id": "NIvN4-BlvJUd",
        "colab_type": "code",
        "colab": {}
      },
      "source": [
        "def conv(x, n_kernel, pool_size=(2, 2)):\n",
        "    x = Conv2D(n_kernel, (3, 3), strides=(1, 1), padding='same',data_format=\"channels_last\")(x)\n",
        "    x = Activation('relu')(x)\n",
        "    x = MaxPooling2D(pool_size=pool_size, strides=pool_size)(x)\n",
        "    x = Dropout(0.25)(x)\n",
        "    return x"
      ],
      "execution_count": 0,
      "outputs": []
    },
    {
      "cell_type": "code",
      "metadata": {
        "id": "uGED9O4avOOL",
        "colab_type": "code",
        "colab": {}
      },
      "source": [
        "def get_model(input_dim,output_dim,penalty):\n",
        "    IN = Input(shape=(input_dim[0],input_dim[1],1))\n",
        "    x = conv(IN, 16)\n",
        "    x = conv(x, 32)\n",
        "    x = conv(x, 64)\n",
        "   # x = conv(x, 128)\n",
        "    x = Flatten()(x)\n",
        "    x = Dropout(0.5)(x)\n",
        "    x = Dense(512, activation='relu', \n",
        "              kernel_regularizer=tf.keras.regularizers.l2(penalty))(x)\n",
        "    x = Dropout(0.25)(x)\n",
        "    pred = Dense(output_dim, activation='softmax', kernel_regularizer=tf.keras.regularizers.l2(penalty))(x)\n",
        "    model = Model(inputs=IN, outputs=pred)\n",
        "    return model"
      ],
      "execution_count": 0,
      "outputs": []
    },
    {
      "cell_type": "code",
      "metadata": {
        "id": "XgPY6fHBvWiG",
        "colab_type": "code",
        "outputId": "73b6278c-c80f-4c08-841b-e7fed62bc573",
        "colab": {
          "base_uri": "https://localhost:8080/",
          "height": 782
        }
      },
      "source": [
        "model = get_model(X_train[-1].shape,10,1e-4) # -------------------Changed \n",
        "model.compile(loss=tf.keras.losses.categorical_crossentropy,\n",
        "              optimizer=tf.keras.optimizers.Adam(),\n",
        "              metrics=['accuracy'])\n",
        "print(model.summary())\n",
        "model.save('/content/drive/My Drive/cnn_2d.h5')"
      ],
      "execution_count": 0,
      "outputs": [
        {
          "output_type": "stream",
          "text": [
            "Model: \"model\"\n",
            "_________________________________________________________________\n",
            "Layer (type)                 Output Shape              Param #   \n",
            "=================================================================\n",
            "input_1 (InputLayer)         [(None, 20, 1290, 1)]     0         \n",
            "_________________________________________________________________\n",
            "conv2d (Conv2D)              (None, 20, 1290, 16)      160       \n",
            "_________________________________________________________________\n",
            "activation (Activation)      (None, 20, 1290, 16)      0         \n",
            "_________________________________________________________________\n",
            "max_pooling2d (MaxPooling2D) (None, 10, 645, 16)       0         \n",
            "_________________________________________________________________\n",
            "dropout (Dropout)            (None, 10, 645, 16)       0         \n",
            "_________________________________________________________________\n",
            "conv2d_1 (Conv2D)            (None, 10, 645, 32)       4640      \n",
            "_________________________________________________________________\n",
            "activation_1 (Activation)    (None, 10, 645, 32)       0         \n",
            "_________________________________________________________________\n",
            "max_pooling2d_1 (MaxPooling2 (None, 5, 322, 32)        0         \n",
            "_________________________________________________________________\n",
            "dropout_1 (Dropout)          (None, 5, 322, 32)        0         \n",
            "_________________________________________________________________\n",
            "conv2d_2 (Conv2D)            (None, 5, 322, 64)        18496     \n",
            "_________________________________________________________________\n",
            "activation_2 (Activation)    (None, 5, 322, 64)        0         \n",
            "_________________________________________________________________\n",
            "max_pooling2d_2 (MaxPooling2 (None, 2, 161, 64)        0         \n",
            "_________________________________________________________________\n",
            "dropout_2 (Dropout)          (None, 2, 161, 64)        0         \n",
            "_________________________________________________________________\n",
            "flatten (Flatten)            (None, 20608)             0         \n",
            "_________________________________________________________________\n",
            "dropout_3 (Dropout)          (None, 20608)             0         \n",
            "_________________________________________________________________\n",
            "dense (Dense)                (None, 512)               10551808  \n",
            "_________________________________________________________________\n",
            "dropout_4 (Dropout)          (None, 512)               0         \n",
            "_________________________________________________________________\n",
            "dense_1 (Dense)              (None, 10)                5130      \n",
            "=================================================================\n",
            "Total params: 10,580,234\n",
            "Trainable params: 10,580,234\n",
            "Non-trainable params: 0\n",
            "_________________________________________________________________\n",
            "None\n"
          ],
          "name": "stdout"
        }
      ]
    },
    {
      "cell_type": "code",
      "metadata": {
        "id": "i7IBJhR2_E2p",
        "colab_type": "code",
        "colab": {}
      },
      "source": [
        ""
      ],
      "execution_count": 0,
      "outputs": []
    },
    {
      "cell_type": "code",
      "metadata": {
        "id": "Wa3FSIVdvktx",
        "colab_type": "code",
        "outputId": "53dd0413-81b5-44ea-abf3-59e217214bfd",
        "colab": {
          "base_uri": "https://localhost:8080/",
          "height": 1000
        }
      },
      "source": [
        "history = model.fit(X_train, Y_train,\n",
        "                    batch_size=32,\n",
        "                    epochs=40,\n",
        "                    validation_data=(X_val, Y_val))"
      ],
      "execution_count": 0,
      "outputs": [
        {
          "output_type": "stream",
          "text": [
            "Epoch 1/40\n",
            "19/19 [==============================] - 1s 42ms/step - loss: 3.1748 - accuracy: 0.1217 - val_loss: 2.3893 - val_accuracy: 0.1800\n",
            "Epoch 2/40\n",
            "19/19 [==============================] - 0s 23ms/step - loss: 2.3064 - accuracy: 0.1267 - val_loss: 2.2576 - val_accuracy: 0.2000\n",
            "Epoch 3/40\n",
            "19/19 [==============================] - 0s 22ms/step - loss: 2.1129 - accuracy: 0.2200 - val_loss: 2.0206 - val_accuracy: 0.3050\n",
            "Epoch 4/40\n",
            "19/19 [==============================] - 0s 23ms/step - loss: 1.9589 - accuracy: 0.3083 - val_loss: 1.9157 - val_accuracy: 0.3900\n",
            "Epoch 5/40\n",
            "19/19 [==============================] - 0s 23ms/step - loss: 1.7895 - accuracy: 0.4200 - val_loss: 1.7745 - val_accuracy: 0.4450\n",
            "Epoch 6/40\n",
            "19/19 [==============================] - 0s 22ms/step - loss: 1.7145 - accuracy: 0.4200 - val_loss: 1.6038 - val_accuracy: 0.4500\n",
            "Epoch 7/40\n",
            "19/19 [==============================] - 0s 23ms/step - loss: 1.4941 - accuracy: 0.5067 - val_loss: 1.6311 - val_accuracy: 0.4700\n",
            "Epoch 8/40\n",
            "19/19 [==============================] - 0s 22ms/step - loss: 1.5973 - accuracy: 0.4567 - val_loss: 1.7569 - val_accuracy: 0.3800\n",
            "Epoch 9/40\n",
            "19/19 [==============================] - 0s 23ms/step - loss: 1.4409 - accuracy: 0.5050 - val_loss: 1.5235 - val_accuracy: 0.4700\n",
            "Epoch 10/40\n",
            "19/19 [==============================] - 0s 22ms/step - loss: 1.2817 - accuracy: 0.5817 - val_loss: 1.4528 - val_accuracy: 0.5450\n",
            "Epoch 11/40\n",
            "19/19 [==============================] - 0s 22ms/step - loss: 1.2125 - accuracy: 0.6117 - val_loss: 1.4617 - val_accuracy: 0.5200\n",
            "Epoch 12/40\n",
            "19/19 [==============================] - 0s 22ms/step - loss: 1.0561 - accuracy: 0.6683 - val_loss: 1.4227 - val_accuracy: 0.5150\n",
            "Epoch 13/40\n",
            "19/19 [==============================] - 0s 23ms/step - loss: 1.0426 - accuracy: 0.6550 - val_loss: 1.3804 - val_accuracy: 0.5350\n",
            "Epoch 14/40\n",
            "19/19 [==============================] - 0s 23ms/step - loss: 1.0003 - accuracy: 0.7000 - val_loss: 1.4965 - val_accuracy: 0.5100\n",
            "Epoch 15/40\n",
            "19/19 [==============================] - 0s 22ms/step - loss: 0.8601 - accuracy: 0.7500 - val_loss: 1.4886 - val_accuracy: 0.4950\n",
            "Epoch 16/40\n",
            "19/19 [==============================] - 0s 23ms/step - loss: 0.7639 - accuracy: 0.7683 - val_loss: 1.6341 - val_accuracy: 0.5300\n",
            "Epoch 17/40\n",
            "19/19 [==============================] - 0s 22ms/step - loss: 0.7551 - accuracy: 0.8033 - val_loss: 1.7326 - val_accuracy: 0.5100\n",
            "Epoch 18/40\n",
            "19/19 [==============================] - 0s 23ms/step - loss: 0.6872 - accuracy: 0.8100 - val_loss: 1.8429 - val_accuracy: 0.5100\n",
            "Epoch 19/40\n",
            "19/19 [==============================] - 0s 22ms/step - loss: 0.7237 - accuracy: 0.8117 - val_loss: 1.4438 - val_accuracy: 0.5600\n",
            "Epoch 20/40\n",
            "19/19 [==============================] - 0s 23ms/step - loss: 0.5974 - accuracy: 0.8417 - val_loss: 1.5531 - val_accuracy: 0.5350\n",
            "Epoch 21/40\n",
            "19/19 [==============================] - 0s 22ms/step - loss: 0.5455 - accuracy: 0.8617 - val_loss: 1.5542 - val_accuracy: 0.5600\n",
            "Epoch 22/40\n",
            "19/19 [==============================] - 0s 22ms/step - loss: 0.4155 - accuracy: 0.9083 - val_loss: 1.6800 - val_accuracy: 0.5750\n",
            "Epoch 23/40\n",
            "19/19 [==============================] - 0s 23ms/step - loss: 0.4386 - accuracy: 0.8967 - val_loss: 1.7516 - val_accuracy: 0.5450\n",
            "Epoch 24/40\n",
            "19/19 [==============================] - 0s 22ms/step - loss: 0.3616 - accuracy: 0.9483 - val_loss: 1.6124 - val_accuracy: 0.5500\n",
            "Epoch 25/40\n",
            "19/19 [==============================] - 0s 23ms/step - loss: 0.3960 - accuracy: 0.9217 - val_loss: 1.8306 - val_accuracy: 0.5100\n",
            "Epoch 26/40\n",
            "19/19 [==============================] - 0s 22ms/step - loss: 0.3701 - accuracy: 0.9350 - val_loss: 1.8744 - val_accuracy: 0.5450\n",
            "Epoch 27/40\n",
            "19/19 [==============================] - 0s 23ms/step - loss: 0.3841 - accuracy: 0.9317 - val_loss: 1.9754 - val_accuracy: 0.5450\n",
            "Epoch 28/40\n",
            "19/19 [==============================] - 0s 22ms/step - loss: 0.3542 - accuracy: 0.9367 - val_loss: 1.9787 - val_accuracy: 0.5350\n",
            "Epoch 29/40\n",
            "19/19 [==============================] - 0s 22ms/step - loss: 0.3024 - accuracy: 0.9600 - val_loss: 1.7655 - val_accuracy: 0.5800\n",
            "Epoch 30/40\n",
            "19/19 [==============================] - 0s 23ms/step - loss: 0.3162 - accuracy: 0.9483 - val_loss: 2.1949 - val_accuracy: 0.5650\n",
            "Epoch 31/40\n",
            "19/19 [==============================] - 0s 23ms/step - loss: 0.3011 - accuracy: 0.9533 - val_loss: 1.9616 - val_accuracy: 0.5750\n",
            "Epoch 32/40\n",
            "19/19 [==============================] - 1s 29ms/step - loss: 0.3054 - accuracy: 0.9567 - val_loss: 1.8953 - val_accuracy: 0.5700\n",
            "Epoch 33/40\n",
            "19/19 [==============================] - 0s 23ms/step - loss: 0.3063 - accuracy: 0.9617 - val_loss: 2.1456 - val_accuracy: 0.5450\n",
            "Epoch 34/40\n",
            "19/19 [==============================] - 0s 23ms/step - loss: 0.2803 - accuracy: 0.9617 - val_loss: 2.1315 - val_accuracy: 0.5600\n",
            "Epoch 35/40\n",
            "19/19 [==============================] - 0s 23ms/step - loss: 0.3133 - accuracy: 0.9533 - val_loss: 1.9400 - val_accuracy: 0.5750\n",
            "Epoch 36/40\n",
            "19/19 [==============================] - 0s 23ms/step - loss: 0.3010 - accuracy: 0.9650 - val_loss: 1.9485 - val_accuracy: 0.5700\n",
            "Epoch 37/40\n",
            "19/19 [==============================] - 0s 23ms/step - loss: 0.3261 - accuracy: 0.9517 - val_loss: 1.8149 - val_accuracy: 0.5750\n",
            "Epoch 38/40\n",
            "19/19 [==============================] - 0s 23ms/step - loss: 0.2658 - accuracy: 0.9767 - val_loss: 2.1918 - val_accuracy: 0.5650\n",
            "Epoch 39/40\n",
            "19/19 [==============================] - 0s 23ms/step - loss: 0.2602 - accuracy: 0.9800 - val_loss: 2.1198 - val_accuracy: 0.5750\n",
            "Epoch 40/40\n",
            "19/19 [==============================] - 0s 23ms/step - loss: 0.2964 - accuracy: 0.9683 - val_loss: 2.1456 - val_accuracy: 0.5550\n"
          ],
          "name": "stdout"
        }
      ]
    },
    {
      "cell_type": "code",
      "metadata": {
        "id": "tnIhdr99RKCq",
        "colab_type": "code",
        "outputId": "dfab02cf-4f9b-4ba6-971e-9bc101fa0ce7",
        "colab": {
          "base_uri": "https://localhost:8080/",
          "height": 51
        }
      },
      "source": [
        "model.evaluate(X_test, Y_test)"
      ],
      "execution_count": 0,
      "outputs": [
        {
          "output_type": "stream",
          "text": [
            "7/7 [==============================] - 0s 7ms/step - loss: 2.1941 - accuracy: 0.5150\n"
          ],
          "name": "stdout"
        },
        {
          "output_type": "execute_result",
          "data": {
            "text/plain": [
              "[2.194122076034546, 0.5149999856948853]"
            ]
          },
          "metadata": {
            "tags": []
          },
          "execution_count": 12
        }
      ]
    },
    {
      "cell_type": "code",
      "metadata": {
        "id": "pi-ejUI5v7VH",
        "colab_type": "code",
        "outputId": "6c4da389-1638-4887-946b-d109028b2fc1",
        "colab": {
          "base_uri": "https://localhost:8080/",
          "height": 265
        }
      },
      "source": [
        "fig,ax = plt.subplots(ncols=2)\n",
        "#fig.suptitle(\"epochs=%d  $\\lambda$=%f lr=%f batch_size=%d\"%(epochs,self.lamda,lr,batch_size))\n",
        "ax[0].plot(history.history['loss'],label='train_loss')\n",
        "ax[0].plot(history.history['val_loss'],label='val_loss')\n",
        "ax[0].legend()\n",
        "ax[1].plot(history.history['accuracy'],label='train_acc')\n",
        "ax[1].plot(history.history['val_accuracy'],label='val_acc')\n",
        "ax[1].legend()\n",
        "plt.show()"
      ],
      "execution_count": 0,
      "outputs": [
        {
          "output_type": "display_data",
          "data": {
            "image/png": "[encoded data removed]",
            "text/plain": [
              "<Figure size 432x288 with 2 Axes>"
            ]
          },
          "metadata": {
            "tags": [],
            "needs_background": "light"
          }
        }
      ]
    },
    {
      "cell_type": "code",
      "metadata": {
        "id": "1RmhUGtrtc_E",
        "colab_type": "code",
        "colab": {}
      },
      "source": [
        "def plot_confusion_matrix(cm, classes,\n",
        "                          normalize=False,\n",
        "                          title='Confusion matrix',\n",
        "                          cmap=plt.cm.Blues):\n",
        "    \"\"\"\n",
        "    This function prints and plots the confusion matrix.\n",
        "    Normalization can be applied by setting `normalize=True`.\n",
        "    \"\"\"\n",
        "    if normalize:\n",
        "        cm = cm.astype('float') / cm.sum(axis=1)[:, np.newaxis]\n",
        "        print(\"Normalized confusion matrix\")\n",
        "    else:\n",
        "        print('Confusion matrix, without normalization')\n",
        "\n",
        "    plt.imshow(cm, interpolation='nearest', cmap=cmap)\n",
        "    plt.title(title)\n",
        "    #plt.colorbar()\n",
        "    tick_marks = np.arange(len(classes))\n",
        "    plt.xticks(tick_marks, classes, rotation=45)\n",
        "    plt.yticks(tick_marks, classes)\n",
        "\n",
        "    fmt = '.2f' if normalize else 'd'\n",
        "    thresh = cm.max() / 2.\n",
        "    for i, j in itertools.product(range(cm.shape[0]), range(cm.shape[1])):\n",
        "        plt.text(j, i, format(cm[i, j], fmt),\n",
        "                 horizontalalignment=\"center\",\n",
        "                 color=\"white\" if cm[i, j] > thresh else \"black\")\n",
        "\n",
        "    plt.tight_layout()\n",
        "    plt.ylabel('True label')\n",
        "    plt.xlabel('Predicted label')"
      ],
      "execution_count": 0,
      "outputs": []
    },
    {
      "cell_type": "code",
      "metadata": {
        "id": "XT4b8jw2tdFl",
        "colab_type": "code",
        "colab": {}
      },
      "source": [
        "preds = np.argmax(model.predict(X_test), axis = 1)\n",
        "y_orig = np.argmax(Y_test, axis = 1)\n",
        "cm = confusion_matrix(preds, y_orig)"
      ],
      "execution_count": 0,
      "outputs": []
    },
    {
      "cell_type": "code",
      "metadata": {
        "id": "YZAqwflLtdLp",
        "colab_type": "code",
        "outputId": "4076a55c-4205-4537-ed06-04a798a1efab",
        "colab": {
          "base_uri": "https://localhost:8080/",
          "height": 760
        }
      },
      "source": [
        "genres = {'metal': 0, 'disco': 1, 'classical': 2, 'hiphop': 3, 'jazz': 4, \n",
        "          'country': 5, 'pop': 6, 'blues': 7, 'reggae': 8, 'rock': 9}\n",
        "keys = OrderedDict(sorted(genres.items(), key=lambda t: t[1])).keys()\n",
        "\n",
        "plt.figure(figsize=(10,10))\n",
        "plot_confusion_matrix(cm, keys, title= 'Confusion matrix for CNN with MFCC', normalize=True)"
      ],
      "execution_count": 0,
      "outputs": [
        {
          "output_type": "stream",
          "text": [
            "Normalized confusion matrix\n"
          ],
          "name": "stdout"
        },
        {
          "output_type": "display_data",
          "data": {
            "image/png": "[encoded data removed]",
            "text/plain": [
              "<Figure size 720x720 with 1 Axes>"
            ]
          },
          "metadata": {
            "tags": [],
            "needs_background": "light"
          }
        }
      ]
    },
    {
      "cell_type": "code",
      "metadata": {
        "id": "oVCSYqJ0zN_-",
        "colab_type": "code",
        "colab": {}
      },
      "source": [
        "def get_model_1(input_dim,output_dim,penalty):\n",
        "    IN = Input(shape=(input_dim[0],input_dim[1],1))\n",
        "    x = conv(IN, 16)\n",
        "    #x = conv(x, 32)\n",
        "    #x = conv(x, 64)\n",
        "    #x = conv(x, 128)\n",
        "    x = Flatten()(x)\n",
        "    x = Dropout(0.5)(x)\n",
        "    x = Dense(512, activation='relu', \n",
        "              kernel_regularizer=tf.keras.regularizers.l2(penalty))(x)\n",
        "    x = Dropout(0.25)(x)\n",
        "    pred = Dense(output_dim, activation='softmax', kernel_regularizer=tf.keras.regularizers.l2(penalty))(x)\n",
        "    model = Model(inputs=IN, outputs=pred)\n",
        "    return model"
      ],
      "execution_count": 0,
      "outputs": []
    },
    {
      "cell_type": "code",
      "metadata": {
        "id": "qavoI4Qszfwp",
        "colab_type": "code",
        "outputId": "84370e1b-388b-46d5-a5d6-c04164eccbb2",
        "colab": {
          "base_uri": "https://localhost:8080/",
          "height": 510
        }
      },
      "source": [
        "model1.reset_states() \n",
        "model1 = get_model_1(X_train[-1].shape,10,1e-4) # -------------------Changed \n",
        "model1.compile(loss=tf.keras.losses.categorical_crossentropy,\n",
        "              optimizer=tf.keras.optimizers.Adam(),\n",
        "              metrics=['accuracy'])\n",
        "print(model1.summary())\n",
        "model1.save('/content/drive/My Drive/cnn_2d1.h5')"
      ],
      "execution_count": 0,
      "outputs": [
        {
          "output_type": "stream",
          "text": [
            "Model: \"model_5\"\n",
            "_________________________________________________________________\n",
            "Layer (type)                 Output Shape              Param #   \n",
            "=================================================================\n",
            "input_6 (InputLayer)         [(None, 20, 1290, 1)]     0         \n",
            "_________________________________________________________________\n",
            "conv2d_11 (Conv2D)           (None, 20, 1290, 16)      160       \n",
            "_________________________________________________________________\n",
            "activation_11 (Activation)   (None, 20, 1290, 16)      0         \n",
            "_________________________________________________________________\n",
            "max_pooling2d_11 (MaxPooling (None, 10, 645, 16)       0         \n",
            "_________________________________________________________________\n",
            "dropout_21 (Dropout)         (None, 10, 645, 16)       0         \n",
            "_________________________________________________________________\n",
            "flatten_5 (Flatten)          (None, 103200)            0         \n",
            "_________________________________________________________________\n",
            "dropout_22 (Dropout)         (None, 103200)            0         \n",
            "_________________________________________________________________\n",
            "dense_10 (Dense)             (None, 512)               52838912  \n",
            "_________________________________________________________________\n",
            "dropout_23 (Dropout)         (None, 512)               0         \n",
            "_________________________________________________________________\n",
            "dense_11 (Dense)             (None, 10)                5130      \n",
            "=================================================================\n",
            "Total params: 52,844,202\n",
            "Trainable params: 52,844,202\n",
            "Non-trainable params: 0\n",
            "_________________________________________________________________\n",
            "None\n"
          ],
          "name": "stdout"
        }
      ]
    },
    {
      "cell_type": "code",
      "metadata": {
        "id": "ZX2PQ50pzYyW",
        "colab_type": "code",
        "outputId": "1ada0c6e-3eb7-4dec-c14c-928c98472948",
        "colab": {
          "base_uri": "https://localhost:8080/",
          "height": 1000
        }
      },
      "source": [
        "history1 = model1.fit(X_train, Y_train,\n",
        "                    batch_size=32,\n",
        "                    epochs=40,\n",
        "                    validation_data=(X_val, Y_val))"
      ],
      "execution_count": 0,
      "outputs": [
        {
          "output_type": "stream",
          "text": [
            "Epoch 1/40\n",
            "19/19 [==============================] - 1s 30ms/step - loss: 18.6840 - accuracy: 0.1500 - val_loss: 3.3809 - val_accuracy: 0.1850\n",
            "Epoch 2/40\n",
            "19/19 [==============================] - 0s 22ms/step - loss: 2.4737 - accuracy: 0.2683 - val_loss: 1.9781 - val_accuracy: 0.3550\n",
            "Epoch 3/40\n",
            "19/19 [==============================] - 0s 21ms/step - loss: 1.8990 - accuracy: 0.4117 - val_loss: 1.8690 - val_accuracy: 0.3850\n",
            "Epoch 4/40\n",
            "19/19 [==============================] - 0s 22ms/step - loss: 1.6880 - accuracy: 0.4733 - val_loss: 1.7453 - val_accuracy: 0.4850\n",
            "Epoch 5/40\n",
            "19/19 [==============================] - 0s 22ms/step - loss: 1.5602 - accuracy: 0.5083 - val_loss: 1.6476 - val_accuracy: 0.5200\n",
            "Epoch 6/40\n",
            "19/19 [==============================] - 0s 22ms/step - loss: 1.4041 - accuracy: 0.5817 - val_loss: 1.5373 - val_accuracy: 0.5550\n",
            "Epoch 7/40\n",
            "19/19 [==============================] - 0s 21ms/step - loss: 1.2159 - accuracy: 0.6583 - val_loss: 1.5193 - val_accuracy: 0.5400\n",
            "Epoch 8/40\n",
            "19/19 [==============================] - 0s 21ms/step - loss: 1.0646 - accuracy: 0.7133 - val_loss: 1.5107 - val_accuracy: 0.5250\n",
            "Epoch 9/40\n",
            "19/19 [==============================] - 0s 22ms/step - loss: 0.9751 - accuracy: 0.7600 - val_loss: 1.4956 - val_accuracy: 0.5150\n",
            "Epoch 10/40\n",
            "19/19 [==============================] - 0s 21ms/step - loss: 0.9061 - accuracy: 0.7883 - val_loss: 1.4756 - val_accuracy: 0.5050\n",
            "Epoch 11/40\n",
            "19/19 [==============================] - 0s 21ms/step - loss: 0.7779 - accuracy: 0.8050 - val_loss: 1.5130 - val_accuracy: 0.5650\n",
            "Epoch 12/40\n",
            "19/19 [==============================] - 0s 22ms/step - loss: 0.7972 - accuracy: 0.7967 - val_loss: 1.5272 - val_accuracy: 0.5450\n",
            "Epoch 13/40\n",
            "19/19 [==============================] - 0s 22ms/step - loss: 0.6774 - accuracy: 0.8617 - val_loss: 1.5399 - val_accuracy: 0.5200\n",
            "Epoch 14/40\n",
            "19/19 [==============================] - 0s 22ms/step - loss: 0.5766 - accuracy: 0.9167 - val_loss: 1.5625 - val_accuracy: 0.5450\n",
            "Epoch 15/40\n",
            "19/19 [==============================] - 0s 21ms/step - loss: 0.4972 - accuracy: 0.9367 - val_loss: 1.4338 - val_accuracy: 0.5750\n",
            "Epoch 16/40\n",
            "19/19 [==============================] - 0s 21ms/step - loss: 0.4558 - accuracy: 0.9367 - val_loss: 1.6190 - val_accuracy: 0.5100\n",
            "Epoch 17/40\n",
            "19/19 [==============================] - 0s 21ms/step - loss: 0.4188 - accuracy: 0.9417 - val_loss: 1.5439 - val_accuracy: 0.5600\n",
            "Epoch 18/40\n",
            "19/19 [==============================] - 0s 22ms/step - loss: 0.4173 - accuracy: 0.9467 - val_loss: 1.5277 - val_accuracy: 0.5550\n",
            "Epoch 19/40\n",
            "19/19 [==============================] - 0s 22ms/step - loss: 0.3545 - accuracy: 0.9633 - val_loss: 1.6068 - val_accuracy: 0.5500\n",
            "Epoch 20/40\n",
            "19/19 [==============================] - 0s 21ms/step - loss: 0.3970 - accuracy: 0.9450 - val_loss: 1.5751 - val_accuracy: 0.5400\n",
            "Epoch 21/40\n",
            "19/19 [==============================] - 0s 22ms/step - loss: 0.3214 - accuracy: 0.9767 - val_loss: 1.6332 - val_accuracy: 0.5400\n",
            "Epoch 22/40\n",
            "19/19 [==============================] - 0s 22ms/step - loss: 0.3142 - accuracy: 0.9683 - val_loss: 1.7430 - val_accuracy: 0.5700\n",
            "Epoch 23/40\n",
            "19/19 [==============================] - 0s 22ms/step - loss: 0.3089 - accuracy: 0.9733 - val_loss: 1.7525 - val_accuracy: 0.5350\n",
            "Epoch 24/40\n",
            "19/19 [==============================] - 0s 21ms/step - loss: 0.3115 - accuracy: 0.9717 - val_loss: 1.6532 - val_accuracy: 0.5900\n",
            "Epoch 25/40\n",
            "19/19 [==============================] - 0s 22ms/step - loss: 0.2885 - accuracy: 0.9767 - val_loss: 1.5902 - val_accuracy: 0.5650\n",
            "Epoch 26/40\n",
            "19/19 [==============================] - 0s 21ms/step - loss: 0.2942 - accuracy: 0.9733 - val_loss: 1.7427 - val_accuracy: 0.5950\n",
            "Epoch 27/40\n",
            "19/19 [==============================] - 0s 21ms/step - loss: 0.2707 - accuracy: 0.9783 - val_loss: 1.8140 - val_accuracy: 0.5350\n",
            "Epoch 28/40\n",
            "19/19 [==============================] - 0s 22ms/step - loss: 0.2716 - accuracy: 0.9717 - val_loss: 1.6169 - val_accuracy: 0.5700\n",
            "Epoch 29/40\n",
            "19/19 [==============================] - 0s 22ms/step - loss: 0.2559 - accuracy: 0.9817 - val_loss: 1.7461 - val_accuracy: 0.5550\n",
            "Epoch 30/40\n",
            "19/19 [==============================] - 0s 22ms/step - loss: 0.2604 - accuracy: 0.9800 - val_loss: 1.6288 - val_accuracy: 0.5550\n",
            "Epoch 31/40\n",
            "19/19 [==============================] - 0s 21ms/step - loss: 0.2623 - accuracy: 0.9783 - val_loss: 1.7383 - val_accuracy: 0.5550\n",
            "Epoch 32/40\n",
            "19/19 [==============================] - 0s 22ms/step - loss: 0.2675 - accuracy: 0.9700 - val_loss: 1.6293 - val_accuracy: 0.5750\n",
            "Epoch 33/40\n",
            "19/19 [==============================] - 0s 21ms/step - loss: 0.2390 - accuracy: 0.9800 - val_loss: 1.7446 - val_accuracy: 0.5650\n",
            "Epoch 34/40\n",
            "19/19 [==============================] - 0s 21ms/step - loss: 0.2515 - accuracy: 0.9733 - val_loss: 1.7020 - val_accuracy: 0.5850\n",
            "Epoch 35/40\n",
            "19/19 [==============================] - 0s 21ms/step - loss: 0.2653 - accuracy: 0.9700 - val_loss: 1.9123 - val_accuracy: 0.5200\n",
            "Epoch 36/40\n",
            "19/19 [==============================] - 0s 21ms/step - loss: 0.2638 - accuracy: 0.9783 - val_loss: 1.8845 - val_accuracy: 0.5200\n",
            "Epoch 37/40\n",
            "19/19 [==============================] - 0s 22ms/step - loss: 0.2446 - accuracy: 0.9800 - val_loss: 1.8177 - val_accuracy: 0.5500\n",
            "Epoch 38/40\n",
            "19/19 [==============================] - 0s 21ms/step - loss: 0.2255 - accuracy: 0.9917 - val_loss: 1.9505 - val_accuracy: 0.5550\n",
            "Epoch 39/40\n",
            "19/19 [==============================] - 0s 21ms/step - loss: 0.2395 - accuracy: 0.9833 - val_loss: 1.6697 - val_accuracy: 0.5450\n",
            "Epoch 40/40\n",
            "19/19 [==============================] - 0s 21ms/step - loss: 0.2149 - accuracy: 0.9933 - val_loss: 1.9111 - val_accuracy: 0.5350\n"
          ],
          "name": "stdout"
        }
      ]
    },
    {
      "cell_type": "code",
      "metadata": {
        "id": "oWYZbaVW2tcU",
        "colab_type": "code",
        "outputId": "a1c1205d-2a32-4fdc-c6f8-0d8fcaa9f158",
        "colab": {
          "base_uri": "https://localhost:8080/",
          "height": 51
        }
      },
      "source": [
        "model1.evaluate(X_test, Y_test)"
      ],
      "execution_count": 0,
      "outputs": [
        {
          "output_type": "stream",
          "text": [
            "7/7 [==============================] - 0s 7ms/step - loss: 1.6934 - accuracy: 0.5550\n"
          ],
          "name": "stdout"
        },
        {
          "output_type": "execute_result",
          "data": {
            "text/plain": [
              "[1.693416714668274, 0.5550000071525574]"
            ]
          },
          "metadata": {
            "tags": []
          },
          "execution_count": 29
        }
      ]
    },
    {
      "cell_type": "markdown",
      "metadata": {
        "id": "2iWm0mFnYP7r",
        "colab_type": "text"
      },
      "source": [
        "modeling with mfcc+delta"
      ]
    },
    {
      "cell_type": "code",
      "metadata": {
        "id": "tSJcS3fUYWgI",
        "colab_type": "code",
        "colab": {}
      },
      "source": [
        "with np.load('/content/drive/My Drive/DT2119 project/data/mfcc_delta_with_labels.npz',allow_pickle=True) as data:\n",
        "    X = data['MFCC']\n",
        "    y = data['labels']"
      ],
      "execution_count": 0,
      "outputs": []
    },
    {
      "cell_type": "code",
      "metadata": {
        "id": "CEVev6l2Yj90",
        "colab_type": "code",
        "outputId": "1980f5e1-3a01-40c5-8636-131f4211169a",
        "colab": {
          "base_uri": "https://localhost:8080/",
          "height": 34
        }
      },
      "source": [
        "X, Y = shuffle(X,y)\n",
        "N = X.shape[0]\n",
        "X_train,Y_train = X[:3*N//5],Y[:3*N//5]\n",
        "X_val,Y_val = X[3*N//5:4*N//5],Y[3*N//5:4*N//5]\n",
        "X_test,Y_test = X[4*N//5:],Y[4*N//5:]\n",
        "print(X_train.shape,Y_train.shape)"
      ],
      "execution_count": 0,
      "outputs": [
        {
          "output_type": "stream",
          "text": [
            "(600, 60, 1290) (600, 10)\n"
          ],
          "name": "stdout"
        }
      ]
    },
    {
      "cell_type": "code",
      "metadata": {
        "id": "KSmIvx3uYrCh",
        "colab_type": "code",
        "colab": {}
      },
      "source": [
        "scaler = StandardScaler()\n",
        "X_train = scaler.fit_transform(X_train.reshape(-1, X_train.shape[-1])).reshape(X_train.shape)\n",
        "X_val = scaler.transform(X_val.reshape(-1, X_test.shape[-1])).reshape(X_test.shape)\n",
        "X_test = scaler.transform(X_test.reshape(-1, X_test.shape[-1])).reshape(X_test.shape)"
      ],
      "execution_count": 0,
      "outputs": []
    },
    {
      "cell_type": "code",
      "metadata": {
        "id": "-sfZ5wxDYxDE",
        "colab_type": "code",
        "outputId": "32fe1992-11f5-47c4-b217-7debda0a4a4d",
        "colab": {
          "base_uri": "https://localhost:8080/",
          "height": 782
        }
      },
      "source": [
        "model.reset_states() \n",
        "model = get_model(X_train[-1].shape,10,1e-4) # -------------------Changed \n",
        "model.compile(loss=tf.keras.losses.categorical_crossentropy,\n",
        "              optimizer=tf.keras.optimizers.Adam(),\n",
        "              metrics=['accuracy'])\n",
        "print(model.summary())\n",
        "model.save('/content/drive/My Drive/cnn_delta_2d.h5')"
      ],
      "execution_count": 0,
      "outputs": [
        {
          "output_type": "stream",
          "text": [
            "Model: \"model_1\"\n",
            "_________________________________________________________________\n",
            "Layer (type)                 Output Shape              Param #   \n",
            "=================================================================\n",
            "input_2 (InputLayer)         [(None, 60, 1290, 1)]     0         \n",
            "_________________________________________________________________\n",
            "conv2d_3 (Conv2D)            (None, 60, 1290, 16)      160       \n",
            "_________________________________________________________________\n",
            "activation_3 (Activation)    (None, 60, 1290, 16)      0         \n",
            "_________________________________________________________________\n",
            "max_pooling2d_3 (MaxPooling2 (None, 30, 645, 16)       0         \n",
            "_________________________________________________________________\n",
            "dropout_5 (Dropout)          (None, 30, 645, 16)       0         \n",
            "_________________________________________________________________\n",
            "conv2d_4 (Conv2D)            (None, 30, 645, 32)       4640      \n",
            "_________________________________________________________________\n",
            "activation_4 (Activation)    (None, 30, 645, 32)       0         \n",
            "_________________________________________________________________\n",
            "max_pooling2d_4 (MaxPooling2 (None, 15, 322, 32)       0         \n",
            "_________________________________________________________________\n",
            "dropout_6 (Dropout)          (None, 15, 322, 32)       0         \n",
            "_________________________________________________________________\n",
            "conv2d_5 (Conv2D)            (None, 15, 322, 64)       18496     \n",
            "_________________________________________________________________\n",
            "activation_5 (Activation)    (None, 15, 322, 64)       0         \n",
            "_________________________________________________________________\n",
            "max_pooling2d_5 (MaxPooling2 (None, 7, 161, 64)        0         \n",
            "_________________________________________________________________\n",
            "dropout_7 (Dropout)          (None, 7, 161, 64)        0         \n",
            "_________________________________________________________________\n",
            "flatten_1 (Flatten)          (None, 72128)             0         \n",
            "_________________________________________________________________\n",
            "dropout_8 (Dropout)          (None, 72128)             0         \n",
            "_________________________________________________________________\n",
            "dense_2 (Dense)              (None, 512)               36930048  \n",
            "_________________________________________________________________\n",
            "dropout_9 (Dropout)          (None, 512)               0         \n",
            "_________________________________________________________________\n",
            "dense_3 (Dense)              (None, 10)                5130      \n",
            "=================================================================\n",
            "Total params: 36,958,474\n",
            "Trainable params: 36,958,474\n",
            "Non-trainable params: 0\n",
            "_________________________________________________________________\n",
            "None\n"
          ],
          "name": "stdout"
        }
      ]
    },
    {
      "cell_type": "code",
      "metadata": {
        "id": "o97bGhulY6vq",
        "colab_type": "code",
        "outputId": "9ce45d59-9002-4769-c3e8-cf0ea29a404c",
        "colab": {
          "base_uri": "https://localhost:8080/",
          "height": 1000
        }
      },
      "source": [
        "history = model.fit(X_train, Y_train,\n",
        "                    batch_size=32,\n",
        "                    epochs=40,\n",
        "                    validation_data=(X_val, Y_val))"
      ],
      "execution_count": 0,
      "outputs": [
        {
          "output_type": "stream",
          "text": [
            "Epoch 1/40\n",
            "19/19 [==============================] - 2s 89ms/step - loss: 5.4814 - accuracy: 0.1200 - val_loss: 2.4596 - val_accuracy: 0.1050\n",
            "Epoch 2/40\n",
            "19/19 [==============================] - 1s 63ms/step - loss: 2.4468 - accuracy: 0.1450 - val_loss: 2.4617 - val_accuracy: 0.1350\n",
            "Epoch 3/40\n",
            "19/19 [==============================] - 1s 64ms/step - loss: 2.3573 - accuracy: 0.1100 - val_loss: 2.3323 - val_accuracy: 0.1950\n",
            "Epoch 4/40\n",
            "19/19 [==============================] - 1s 66ms/step - loss: 2.2230 - accuracy: 0.1950 - val_loss: 2.1646 - val_accuracy: 0.2150\n",
            "Epoch 5/40\n",
            "19/19 [==============================] - 1s 65ms/step - loss: 1.9921 - accuracy: 0.3233 - val_loss: 1.9163 - val_accuracy: 0.3450\n",
            "Epoch 6/40\n",
            "19/19 [==============================] - 1s 65ms/step - loss: 1.7719 - accuracy: 0.3683 - val_loss: 1.7027 - val_accuracy: 0.3450\n",
            "Epoch 7/40\n",
            "19/19 [==============================] - 1s 65ms/step - loss: 1.6294 - accuracy: 0.4300 - val_loss: 1.6414 - val_accuracy: 0.4150\n",
            "Epoch 8/40\n",
            "19/19 [==============================] - 1s 66ms/step - loss: 1.5722 - accuracy: 0.4383 - val_loss: 1.5527 - val_accuracy: 0.4800\n",
            "Epoch 9/40\n",
            "19/19 [==============================] - 1s 66ms/step - loss: 1.4531 - accuracy: 0.5017 - val_loss: 1.5301 - val_accuracy: 0.4400\n",
            "Epoch 10/40\n",
            "19/19 [==============================] - 1s 65ms/step - loss: 1.3211 - accuracy: 0.5400 - val_loss: 1.3870 - val_accuracy: 0.5300\n",
            "Epoch 11/40\n",
            "19/19 [==============================] - 1s 65ms/step - loss: 1.2424 - accuracy: 0.6033 - val_loss: 1.4301 - val_accuracy: 0.5000\n",
            "Epoch 12/40\n",
            "19/19 [==============================] - 1s 65ms/step - loss: 1.1058 - accuracy: 0.6533 - val_loss: 1.2774 - val_accuracy: 0.5700\n",
            "Epoch 13/40\n",
            "19/19 [==============================] - 1s 65ms/step - loss: 1.0861 - accuracy: 0.6383 - val_loss: 1.4565 - val_accuracy: 0.5500\n",
            "Epoch 14/40\n",
            "19/19 [==============================] - 1s 65ms/step - loss: 0.9460 - accuracy: 0.7233 - val_loss: 1.4170 - val_accuracy: 0.5350\n",
            "Epoch 15/40\n",
            "19/19 [==============================] - 1s 65ms/step - loss: 0.8462 - accuracy: 0.7667 - val_loss: 1.3615 - val_accuracy: 0.5550\n",
            "Epoch 16/40\n",
            "19/19 [==============================] - 1s 65ms/step - loss: 0.7946 - accuracy: 0.7700 - val_loss: 1.3673 - val_accuracy: 0.5650\n",
            "Epoch 17/40\n",
            "19/19 [==============================] - 1s 65ms/step - loss: 0.6827 - accuracy: 0.7983 - val_loss: 1.3365 - val_accuracy: 0.5700\n",
            "Epoch 18/40\n",
            "19/19 [==============================] - 1s 65ms/step - loss: 0.6467 - accuracy: 0.8450 - val_loss: 1.5140 - val_accuracy: 0.5100\n",
            "Epoch 19/40\n",
            "19/19 [==============================] - 1s 65ms/step - loss: 0.5151 - accuracy: 0.8833 - val_loss: 1.3866 - val_accuracy: 0.5750\n",
            "Epoch 20/40\n",
            "19/19 [==============================] - 1s 65ms/step - loss: 0.4912 - accuracy: 0.8883 - val_loss: 1.8618 - val_accuracy: 0.5200\n",
            "Epoch 21/40\n",
            "19/19 [==============================] - 1s 65ms/step - loss: 0.5045 - accuracy: 0.8917 - val_loss: 1.4620 - val_accuracy: 0.5850\n",
            "Epoch 22/40\n",
            "19/19 [==============================] - 1s 64ms/step - loss: 0.4056 - accuracy: 0.9183 - val_loss: 1.4462 - val_accuracy: 0.6000\n",
            "Epoch 23/40\n",
            "19/19 [==============================] - 1s 65ms/step - loss: 0.3624 - accuracy: 0.9367 - val_loss: 1.7259 - val_accuracy: 0.5450\n",
            "Epoch 24/40\n",
            "19/19 [==============================] - 1s 64ms/step - loss: 0.3914 - accuracy: 0.9300 - val_loss: 1.5741 - val_accuracy: 0.5650\n",
            "Epoch 25/40\n",
            "19/19 [==============================] - 1s 64ms/step - loss: 0.3609 - accuracy: 0.9400 - val_loss: 1.6668 - val_accuracy: 0.5600\n",
            "Epoch 26/40\n",
            "19/19 [==============================] - 1s 64ms/step - loss: 0.3645 - accuracy: 0.9450 - val_loss: 1.7793 - val_accuracy: 0.5600\n",
            "Epoch 27/40\n",
            "19/19 [==============================] - 1s 64ms/step - loss: 0.3516 - accuracy: 0.9450 - val_loss: 1.6353 - val_accuracy: 0.5450\n",
            "Epoch 28/40\n",
            "19/19 [==============================] - 1s 64ms/step - loss: 0.3065 - accuracy: 0.9667 - val_loss: 1.5867 - val_accuracy: 0.5900\n",
            "Epoch 29/40\n",
            "19/19 [==============================] - 1s 65ms/step - loss: 0.3173 - accuracy: 0.9550 - val_loss: 1.7904 - val_accuracy: 0.5750\n",
            "Epoch 30/40\n",
            "19/19 [==============================] - 1s 64ms/step - loss: 0.3234 - accuracy: 0.9600 - val_loss: 1.9438 - val_accuracy: 0.5700\n",
            "Epoch 31/40\n",
            "19/19 [==============================] - 1s 64ms/step - loss: 0.2951 - accuracy: 0.9700 - val_loss: 1.7605 - val_accuracy: 0.5700\n",
            "Epoch 32/40\n",
            "19/19 [==============================] - 1s 64ms/step - loss: 0.2776 - accuracy: 0.9733 - val_loss: 1.6753 - val_accuracy: 0.6100\n",
            "Epoch 33/40\n",
            "19/19 [==============================] - 1s 65ms/step - loss: 0.3008 - accuracy: 0.9600 - val_loss: 1.8175 - val_accuracy: 0.5600\n",
            "Epoch 34/40\n",
            "19/19 [==============================] - 1s 64ms/step - loss: 0.2669 - accuracy: 0.9767 - val_loss: 1.8774 - val_accuracy: 0.5950\n",
            "Epoch 35/40\n",
            "19/19 [==============================] - 1s 64ms/step - loss: 0.2775 - accuracy: 0.9733 - val_loss: 1.8605 - val_accuracy: 0.5700\n",
            "Epoch 36/40\n",
            "19/19 [==============================] - 1s 64ms/step - loss: 0.2903 - accuracy: 0.9700 - val_loss: 2.0212 - val_accuracy: 0.5250\n",
            "Epoch 37/40\n",
            "19/19 [==============================] - 1s 64ms/step - loss: 0.2837 - accuracy: 0.9700 - val_loss: 2.1496 - val_accuracy: 0.5300\n",
            "Epoch 38/40\n",
            "19/19 [==============================] - 1s 64ms/step - loss: 0.2940 - accuracy: 0.9667 - val_loss: 1.9122 - val_accuracy: 0.5600\n",
            "Epoch 39/40\n",
            "19/19 [==============================] - 1s 64ms/step - loss: 0.2855 - accuracy: 0.9750 - val_loss: 2.0822 - val_accuracy: 0.5350\n",
            "Epoch 40/40\n",
            "19/19 [==============================] - 1s 64ms/step - loss: 0.2951 - accuracy: 0.9767 - val_loss: 1.9443 - val_accuracy: 0.5650\n"
          ],
          "name": "stdout"
        }
      ]
    },
    {
      "cell_type": "code",
      "metadata": {
        "id": "ovjk9TTfc-fr",
        "colab_type": "code",
        "outputId": "63c1b3c1-a58c-49b7-a10b-8480ddbc3e6f",
        "colab": {
          "base_uri": "https://localhost:8080/",
          "height": 265
        }
      },
      "source": [
        "fig,ax = plt.subplots(ncols=2)\n",
        "#fig.suptitle(\"epochs=%d  $\\lambda$=%f lr=%f batch_size=%d\"%(epochs,self.lamda,lr,batch_size))\n",
        "ax[0].plot(history.history['loss'],label='train_loss')\n",
        "ax[0].plot(history.history['val_loss'],label='val_loss')\n",
        "ax[0].legend()\n",
        "ax[1].plot(history.history['accuracy'],label='train_acc')\n",
        "ax[1].plot(history.history['val_accuracy'],label='val_acc')\n",
        "ax[1].legend()\n",
        "plt.show()"
      ],
      "execution_count": 0,
      "outputs": [
        {
          "output_type": "display_data",
          "data": {
            "image/png": "[encoded data removed]",
            "text/plain": [
              "<Figure size 432x288 with 2 Axes>"
            ]
          },
          "metadata": {
            "tags": [],
            "needs_background": "light"
          }
        }
      ]
    },
    {
      "cell_type": "code",
      "metadata": {
        "id": "0eq8-aBkdJhx",
        "colab_type": "code",
        "colab": {}
      },
      "source": [
        "preds = np.argmax(model.predict(X_test), axis = 1)\n",
        "y_orig = np.argmax(Y_test, axis = 1)\n",
        "cm = confusion_matrix(preds, y_orig)"
      ],
      "execution_count": 0,
      "outputs": []
    },
    {
      "cell_type": "code",
      "metadata": {
        "id": "0MFV_pOQc-vi",
        "colab_type": "code",
        "outputId": "cda1ee5d-5d8c-467f-a626-681cf5ed3494",
        "colab": {
          "base_uri": "https://localhost:8080/",
          "height": 760
        }
      },
      "source": [
        "genres = {'metal': 0, 'disco': 1, 'classical': 2, 'hiphop': 3, 'jazz': 4, \n",
        "          'country': 5, 'pop': 6, 'blues': 7, 'reggae': 8, 'rock': 9}\n",
        "keys = OrderedDict(sorted(genres.items(), key=lambda t: t[1])).keys()\n",
        "\n",
        "plt.figure(figsize=(10,10))\n",
        "plot_confusion_matrix(cm, keys,  title= 'Confusion matrix for CNN with Delta + MFCC', normalize=True)"
      ],
      "execution_count": 0,
      "outputs": [
        {
          "output_type": "stream",
          "text": [
            "Normalized confusion matrix\n"
          ],
          "name": "stdout"
        },
        {
          "output_type": "display_data",
          "data": {
            "image/png": "[encoded data removed]",
            "text/plain": [
              "<Figure size 720x720 with 1 Axes>"
            ]
          },
          "metadata": {
            "tags": [],
            "needs_background": "light"
          }
        }
      ]
    },
    {
      "cell_type": "code",
      "metadata": {
        "id": "efn0UJxBZJ9i",
        "colab_type": "code",
        "outputId": "3b12ef53-a0dd-42ab-94fe-1c686947ed8a",
        "colab": {
          "base_uri": "https://localhost:8080/",
          "height": 51
        }
      },
      "source": [
        "model.evaluate(X_test, Y_test)"
      ],
      "execution_count": 0,
      "outputs": [
        {
          "output_type": "stream",
          "text": [
            "7/7 [==============================] - 0s 17ms/step - loss: 2.1664 - accuracy: 0.5250\n"
          ],
          "name": "stdout"
        },
        {
          "output_type": "execute_result",
          "data": {
            "text/plain": [
              "[2.166363000869751, 0.5249999761581421]"
            ]
          },
          "metadata": {
            "tags": []
          },
          "execution_count": 25
        }
      ]
    },
    {
      "cell_type": "markdown",
      "metadata": {
        "id": "7Psgf86h-F3V",
        "colab_type": "text"
      },
      "source": [
        "modeling with dynamic MFCC"
      ]
    },
    {
      "cell_type": "code",
      "metadata": {
        "id": "h47Snm6n-J-P",
        "colab_type": "code",
        "colab": {}
      },
      "source": [
        "with np.load('/content/drive/My Drive/DT2119 project/data/dynamic_mfcc_with_labels.npz',allow_pickle=True) as data:\n",
        "    X = data['MFCC']\n",
        "    y = data['labels']"
      ],
      "execution_count": 0,
      "outputs": []
    },
    {
      "cell_type": "code",
      "metadata": {
        "id": "-cnNhS-dIQSP",
        "colab_type": "code",
        "outputId": "bdeaa2a3-ea22-4ba2-d343-05e60fca3cf0",
        "colab": {
          "base_uri": "https://localhost:8080/",
          "height": 34
        }
      },
      "source": [
        "X.shape"
      ],
      "execution_count": 0,
      "outputs": [
        {
          "output_type": "execute_result",
          "data": {
            "text/plain": [
              "(1000, 140, 1290)"
            ]
          },
          "metadata": {
            "tags": []
          },
          "execution_count": 7
        }
      ]
    },
    {
      "cell_type": "code",
      "metadata": {
        "id": "yw5yfiAm-r8h",
        "colab_type": "code",
        "outputId": "5f5d811d-6a0f-4f3f-e932-4ed2f0133088",
        "colab": {
          "base_uri": "https://localhost:8080/",
          "height": 34
        }
      },
      "source": [
        "X, Y = shuffle(X,y)\n",
        "N = X.shape[0]\n",
        "X_train,Y_train = X[:3*N//5],Y[:3*N//5]\n",
        "X_val,Y_val = X[3*N//5:4*N//5],Y[3*N//5:4*N//5]\n",
        "X_test,Y_test = X[4*N//5:],Y[4*N//5:]\n",
        "print(X_train.shape,Y_train.shape)"
      ],
      "execution_count": 0,
      "outputs": [
        {
          "output_type": "stream",
          "text": [
            "(600, 140, 1290) (600, 10)\n"
          ],
          "name": "stdout"
        }
      ]
    },
    {
      "cell_type": "code",
      "metadata": {
        "id": "yw9B-0rF-9F6",
        "colab_type": "code",
        "colab": {}
      },
      "source": [
        "scaler = StandardScaler()\n",
        "X_train = scaler.fit_transform(X_train.reshape(-1, X_train.shape[-1])).reshape(X_train.shape)\n",
        "X_val = scaler.transform(X_val.reshape(-1, X_test.shape[-1])).reshape(X_test.shape)\n",
        "X_test = scaler.transform(X_test.reshape(-1, X_test.shape[-1])).reshape(X_test.shape)"
      ],
      "execution_count": 0,
      "outputs": []
    },
    {
      "cell_type": "code",
      "metadata": {
        "id": "moOcm6Ra_GfS",
        "colab_type": "code",
        "outputId": "505e09c5-958f-4d2a-fa09-328b6d2af697",
        "colab": {
          "base_uri": "https://localhost:8080/",
          "height": 782
        }
      },
      "source": [
        "model = get_model(X_train[-1].shape,10,1e-4) # -------------------Changed \n",
        "model.compile(loss=tf.keras.losses.categorical_crossentropy,\n",
        "              optimizer=tf.keras.optimizers.Adam(),\n",
        "              metrics=['accuracy'])\n",
        "print(model.summary())\n",
        "model.save('/content/drive/My Drive/cnn_dynamic_2d.h5')"
      ],
      "execution_count": 0,
      "outputs": [
        {
          "output_type": "stream",
          "text": [
            "Model: \"model\"\n",
            "_________________________________________________________________\n",
            "Layer (type)                 Output Shape              Param #   \n",
            "=================================================================\n",
            "input_1 (InputLayer)         [(None, 140, 1290, 1)]    0         \n",
            "_________________________________________________________________\n",
            "conv2d (Conv2D)              (None, 140, 1290, 16)     160       \n",
            "_________________________________________________________________\n",
            "activation (Activation)      (None, 140, 1290, 16)     0         \n",
            "_________________________________________________________________\n",
            "max_pooling2d (MaxPooling2D) (None, 70, 645, 16)       0         \n",
            "_________________________________________________________________\n",
            "dropout (Dropout)            (None, 70, 645, 16)       0         \n",
            "_________________________________________________________________\n",
            "conv2d_1 (Conv2D)            (None, 70, 645, 32)       4640      \n",
            "_________________________________________________________________\n",
            "activation_1 (Activation)    (None, 70, 645, 32)       0         \n",
            "_________________________________________________________________\n",
            "max_pooling2d_1 (MaxPooling2 (None, 35, 322, 32)       0         \n",
            "_________________________________________________________________\n",
            "dropout_1 (Dropout)          (None, 35, 322, 32)       0         \n",
            "_________________________________________________________________\n",
            "conv2d_2 (Conv2D)            (None, 35, 322, 64)       18496     \n",
            "_________________________________________________________________\n",
            "activation_2 (Activation)    (None, 35, 322, 64)       0         \n",
            "_________________________________________________________________\n",
            "max_pooling2d_2 (MaxPooling2 (None, 17, 161, 64)       0         \n",
            "_________________________________________________________________\n",
            "dropout_2 (Dropout)          (None, 17, 161, 64)       0         \n",
            "_________________________________________________________________\n",
            "flatten (Flatten)            (None, 175168)            0         \n",
            "_________________________________________________________________\n",
            "dropout_3 (Dropout)          (None, 175168)            0         \n",
            "_________________________________________________________________\n",
            "dense (Dense)                (None, 512)               89686528  \n",
            "_________________________________________________________________\n",
            "dropout_4 (Dropout)          (None, 512)               0         \n",
            "_________________________________________________________________\n",
            "dense_1 (Dense)              (None, 10)                5130      \n",
            "=================================================================\n",
            "Total params: 89,714,954\n",
            "Trainable params: 89,714,954\n",
            "Non-trainable params: 0\n",
            "_________________________________________________________________\n",
            "None\n"
          ],
          "name": "stdout"
        }
      ]
    },
    {
      "cell_type": "code",
      "metadata": {
        "id": "E2RgD2Zj_dhu",
        "colab_type": "code",
        "outputId": "e396c0fe-a8a8-4d87-9323-593189980838",
        "colab": {
          "base_uri": "https://localhost:8080/",
          "height": 1000
        }
      },
      "source": [
        "history = model.fit(X_train, Y_train,\n",
        "                    batch_size=32,\n",
        "                    epochs=40,\n",
        "                    validation_data=(X_val, Y_val))"
      ],
      "execution_count": 0,
      "outputs": [
        {
          "output_type": "stream",
          "text": [
            "Epoch 1/40\n",
            "19/19 [==============================] - 2s 110ms/step - loss: 13.9238 - accuracy: 0.1200 - val_loss: 2.5789 - val_accuracy: 0.0650\n",
            "Epoch 2/40\n",
            "19/19 [==============================] - 2s 88ms/step - loss: 2.5974 - accuracy: 0.1333 - val_loss: 2.6143 - val_accuracy: 0.0900\n",
            "Epoch 3/40\n",
            "19/19 [==============================] - 2s 88ms/step - loss: 2.5652 - accuracy: 0.1250 - val_loss: 2.5090 - val_accuracy: 0.1600\n",
            "Epoch 4/40\n",
            "19/19 [==============================] - 2s 90ms/step - loss: 2.4401 - accuracy: 0.1833 - val_loss: 2.3841 - val_accuracy: 0.2350\n",
            "Epoch 5/40\n",
            "19/19 [==============================] - 2s 88ms/step - loss: 2.2482 - accuracy: 0.2667 - val_loss: 2.2507 - val_accuracy: 0.2600\n",
            "Epoch 6/40\n",
            "19/19 [==============================] - 2s 89ms/step - loss: 2.1619 - accuracy: 0.2833 - val_loss: 2.2694 - val_accuracy: 0.2800\n",
            "Epoch 7/40\n",
            "19/19 [==============================] - 2s 89ms/step - loss: 2.0658 - accuracy: 0.3250 - val_loss: 2.1233 - val_accuracy: 0.3100\n",
            "Epoch 8/40\n",
            "19/19 [==============================] - 2s 85ms/step - loss: 1.9740 - accuracy: 0.3667 - val_loss: 2.0540 - val_accuracy: 0.3050\n",
            "Epoch 9/40\n",
            "19/19 [==============================] - 2s 84ms/step - loss: 1.8547 - accuracy: 0.4317 - val_loss: 1.9868 - val_accuracy: 0.3350\n",
            "Epoch 10/40\n",
            "19/19 [==============================] - 2s 85ms/step - loss: 1.8131 - accuracy: 0.4083 - val_loss: 1.9587 - val_accuracy: 0.4400\n",
            "Epoch 11/40\n",
            "19/19 [==============================] - 2s 84ms/step - loss: 1.7200 - accuracy: 0.4617 - val_loss: 1.8746 - val_accuracy: 0.4200\n",
            "Epoch 12/40\n",
            "19/19 [==============================] - 2s 85ms/step - loss: 1.7066 - accuracy: 0.4633 - val_loss: 1.8969 - val_accuracy: 0.3950\n",
            "Epoch 13/40\n",
            "19/19 [==============================] - 2s 89ms/step - loss: 1.5493 - accuracy: 0.5383 - val_loss: 1.8322 - val_accuracy: 0.4500\n",
            "Epoch 14/40\n",
            "19/19 [==============================] - 2s 89ms/step - loss: 1.4895 - accuracy: 0.5750 - val_loss: 1.6564 - val_accuracy: 0.5150\n",
            "Epoch 15/40\n",
            "19/19 [==============================] - 2s 88ms/step - loss: 1.3653 - accuracy: 0.6133 - val_loss: 1.8288 - val_accuracy: 0.4100\n",
            "Epoch 16/40\n",
            "19/19 [==============================] - 2s 90ms/step - loss: 1.2437 - accuracy: 0.6267 - val_loss: 1.6790 - val_accuracy: 0.4800\n",
            "Epoch 17/40\n",
            "19/19 [==============================] - 2s 92ms/step - loss: 1.2037 - accuracy: 0.6633 - val_loss: 1.7761 - val_accuracy: 0.4450\n",
            "Epoch 18/40\n",
            "19/19 [==============================] - 2s 85ms/step - loss: 1.1414 - accuracy: 0.6950 - val_loss: 1.7497 - val_accuracy: 0.4800\n",
            "Epoch 19/40\n",
            "19/19 [==============================] - 2s 84ms/step - loss: 1.0412 - accuracy: 0.7433 - val_loss: 1.8337 - val_accuracy: 0.4300\n",
            "Epoch 20/40\n",
            "19/19 [==============================] - 2s 85ms/step - loss: 0.9639 - accuracy: 0.7600 - val_loss: 1.7964 - val_accuracy: 0.4850\n",
            "Epoch 21/40\n",
            "19/19 [==============================] - 2s 84ms/step - loss: 0.9578 - accuracy: 0.7500 - val_loss: 1.9532 - val_accuracy: 0.4250\n",
            "Epoch 22/40\n",
            "19/19 [==============================] - 2s 85ms/step - loss: 0.8250 - accuracy: 0.8117 - val_loss: 2.0329 - val_accuracy: 0.4150\n",
            "Epoch 23/40\n",
            "19/19 [==============================] - 2s 85ms/step - loss: 0.7460 - accuracy: 0.8400 - val_loss: 2.0907 - val_accuracy: 0.4000\n",
            "Epoch 24/40\n",
            "19/19 [==============================] - 2s 86ms/step - loss: 0.7126 - accuracy: 0.8617 - val_loss: 1.8975 - val_accuracy: 0.4700\n",
            "Epoch 25/40\n",
            "19/19 [==============================] - 2s 85ms/step - loss: 0.6437 - accuracy: 0.9000 - val_loss: 2.1554 - val_accuracy: 0.4550\n",
            "Epoch 26/40\n",
            "19/19 [==============================] - 2s 85ms/step - loss: 0.6219 - accuracy: 0.9150 - val_loss: 2.1315 - val_accuracy: 0.4550\n",
            "Epoch 27/40\n",
            "19/19 [==============================] - 2s 85ms/step - loss: 0.5982 - accuracy: 0.9150 - val_loss: 2.2942 - val_accuracy: 0.4850\n",
            "Epoch 28/40\n",
            "19/19 [==============================] - 2s 86ms/step - loss: 0.5974 - accuracy: 0.9083 - val_loss: 2.0521 - val_accuracy: 0.4800\n",
            "Epoch 29/40\n",
            "19/19 [==============================] - 2s 85ms/step - loss: 0.5522 - accuracy: 0.9233 - val_loss: 2.1043 - val_accuracy: 0.4550\n",
            "Epoch 30/40\n",
            "19/19 [==============================] - 2s 83ms/step - loss: 0.5445 - accuracy: 0.9333 - val_loss: 2.2244 - val_accuracy: 0.4650\n",
            "Epoch 31/40\n",
            "19/19 [==============================] - 2s 85ms/step - loss: 0.5164 - accuracy: 0.9483 - val_loss: 2.4068 - val_accuracy: 0.4650\n",
            "Epoch 32/40\n",
            "19/19 [==============================] - 2s 85ms/step - loss: 0.4864 - accuracy: 0.9517 - val_loss: 2.5658 - val_accuracy: 0.4700\n",
            "Epoch 33/40\n",
            "19/19 [==============================] - 2s 84ms/step - loss: 0.4514 - accuracy: 0.9567 - val_loss: 2.3968 - val_accuracy: 0.4650\n",
            "Epoch 34/40\n",
            "19/19 [==============================] - 2s 85ms/step - loss: 0.6190 - accuracy: 0.9217 - val_loss: 2.3518 - val_accuracy: 0.4550\n",
            "Epoch 35/40\n",
            "19/19 [==============================] - 2s 85ms/step - loss: 0.5549 - accuracy: 0.9333 - val_loss: 2.3744 - val_accuracy: 0.4850\n",
            "Epoch 36/40\n",
            "19/19 [==============================] - 2s 85ms/step - loss: 0.4479 - accuracy: 0.9700 - val_loss: 2.3828 - val_accuracy: 0.4750\n",
            "Epoch 37/40\n",
            "19/19 [==============================] - 2s 85ms/step - loss: 0.4522 - accuracy: 0.9633 - val_loss: 2.5327 - val_accuracy: 0.4800\n",
            "Epoch 38/40\n",
            "19/19 [==============================] - 2s 84ms/step - loss: 0.4392 - accuracy: 0.9767 - val_loss: 2.2575 - val_accuracy: 0.4850\n",
            "Epoch 39/40\n",
            "19/19 [==============================] - 2s 84ms/step - loss: 0.4133 - accuracy: 0.9750 - val_loss: 2.5757 - val_accuracy: 0.5000\n",
            "Epoch 40/40\n",
            "19/19 [==============================] - 2s 85ms/step - loss: 0.4381 - accuracy: 0.9683 - val_loss: 2.6683 - val_accuracy: 0.4600\n"
          ],
          "name": "stdout"
        }
      ]
    },
    {
      "cell_type": "code",
      "metadata": {
        "id": "uTeSId1Q_9fw",
        "colab_type": "code",
        "outputId": "2598c2a5-fbe9-4616-8ad4-d737ec7b09f6",
        "colab": {
          "base_uri": "https://localhost:8080/",
          "height": 51
        }
      },
      "source": [
        "model.evaluate(X_test, Y_test)"
      ],
      "execution_count": 0,
      "outputs": [
        {
          "output_type": "stream",
          "text": [
            "7/7 [==============================] - 0s 21ms/step - loss: 2.4670 - accuracy: 0.5050\n"
          ],
          "name": "stdout"
        },
        {
          "output_type": "execute_result",
          "data": {
            "text/plain": [
              "[2.4669692516326904, 0.5049999952316284]"
            ]
          },
          "metadata": {
            "tags": []
          },
          "execution_count": 14
        }
      ]
    },
    {
      "cell_type": "code",
      "metadata": {
        "id": "Oe8ctnUeh6vo",
        "colab_type": "code",
        "outputId": "1533ef10-4b88-470a-9dd6-3533ec19aad1",
        "colab": {
          "base_uri": "https://localhost:8080/",
          "height": 265
        }
      },
      "source": [
        "fig,ax = plt.subplots(ncols=2)\n",
        "#fig.suptitle(\"epochs=%d  $\\lambda$=%f lr=%f batch_size=%d\"%(epochs,self.lamda,lr,batch_size))\n",
        "ax[0].plot(history.history['loss'],label='train_loss')\n",
        "ax[0].plot(history.history['val_loss'],label='val_loss')\n",
        "ax[0].legend()\n",
        "ax[1].plot(history.history['accuracy'],label='train_acc')\n",
        "ax[1].plot(history.history['val_accuracy'],label='val_acc')\n",
        "ax[1].legend()\n",
        "plt.show()"
      ],
      "execution_count": 0,
      "outputs": [
        {
          "output_type": "display_data",
          "data": {
            "image/png": "[encoded data removed]",
            "text/plain": [
              "<Figure size 432x288 with 2 Axes>"
            ]
          },
          "metadata": {
            "tags": [],
            "needs_background": "light"
          }
        }
      ]
    },
    {
      "cell_type": "code",
      "metadata": {
        "id": "k8bMvskrjOHl",
        "colab_type": "code",
        "colab": {}
      },
      "source": [
        "preds = np.argmax(model.predict(X_test), axis = 1)\n",
        "y_orig = np.argmax(Y_test, axis = 1)\n",
        "cm = confusion_matrix(preds, y_orig)"
      ],
      "execution_count": 0,
      "outputs": []
    },
    {
      "cell_type": "code",
      "metadata": {
        "id": "dp6t49FLh63x",
        "colab_type": "code",
        "outputId": "9045fe6a-1ae9-45cc-b6ff-a14a78f3bb75",
        "colab": {
          "base_uri": "https://localhost:8080/",
          "height": 746
        }
      },
      "source": [
        "genres = {'metal': 0, 'disco': 1, 'classical': 2, 'hiphop': 3, 'jazz': 4, \n",
        "          'country': 5, 'pop': 6, 'blues': 7, 'reggae': 8, 'rock': 9}\n",
        "keys = OrderedDict(sorted(genres.items(), key=lambda t: t[1])).keys()\n",
        "\n",
        "plt.figure(figsize=(10,10))\n",
        "plot_confusion_matrix(cm, keys, normalize=True)"
      ],
      "execution_count": 0,
      "outputs": [
        {
          "output_type": "stream",
          "text": [
            "Normalized confusion matrix\n"
          ],
          "name": "stdout"
        },
        {
          "output_type": "display_data",
          "data": {
            "image/png": "[encoded data removed]",
            "text/plain": [
              "<Figure size 720x720 with 2 Axes>"
            ]
          },
          "metadata": {
            "tags": [],
            "needs_background": "light"
          }
        }
      ]
    },
    {
      "cell_type": "code",
      "metadata": {
        "id": "puNGy_mswAfB",
        "colab_type": "code",
        "colab": {}
      },
      "source": [
        "with np.load('/content/drive/My Drive/DT2119 project/data/mfcc_with_labels.npz',allow_pickle=True) as data:\n",
        "    X = data['MFCC']\n",
        "    y = data['labels']"
      ],
      "execution_count": 0,
      "outputs": []
    },
    {
      "cell_type": "code",
      "metadata": {
        "id": "sn72I-OxxxqN",
        "colab_type": "code",
        "colab": {}
      },
      "source": [
        "with np.load('/content/drive/My Drive/DT2119 project/data/mfcc_delta_with_labels.npz',allow_pickle=True) as data:\n",
        "    X = data['MFCC']\n",
        "    y = data['labels']"
      ],
      "execution_count": 0,
      "outputs": []
    },
    {
      "cell_type": "code",
      "metadata": {
        "id": "zxg1fugZwNPQ",
        "colab_type": "code",
        "colab": {}
      },
      "source": [
        "X_f = np.ndarray.flatten(X).reshape(1000,-1)\n",
        "X_train, X_test, y_train, y_test = train_test_split(X_f, y, test_size=0.2)"
      ],
      "execution_count": 0,
      "outputs": []
    },
    {
      "cell_type": "code",
      "metadata": {
        "id": "XnAqvhsf03yQ",
        "colab_type": "code",
        "outputId": "7776951e-4732-4c23-eb0a-39443f5684be",
        "colab": {
          "base_uri": "https://localhost:8080/",
          "height": 34
        }
      },
      "source": [
        "X_f.shape"
      ],
      "execution_count": 0,
      "outputs": [
        {
          "output_type": "execute_result",
          "data": {
            "text/plain": [
              "(1000, 25800)"
            ]
          },
          "metadata": {
            "tags": []
          },
          "execution_count": 15
        }
      ]
    },
    {
      "cell_type": "code",
      "metadata": {
        "id": "il_X_bflwfQu",
        "colab_type": "code",
        "outputId": "79a986ac-4e64-4c81-ad03-e4406c1dc51b",
        "colab": {
          "base_uri": "https://localhost:8080/",
          "height": 238
        }
      },
      "source": [
        "scaler = StandardScaler()\n",
        "scaler.fit(np.array(X_train, dtype = float))\n",
        "scaler.transform(X_train)\n",
        "scaler.transform(X_test)"
      ],
      "execution_count": 0,
      "outputs": [
        {
          "output_type": "execute_result",
          "data": {
            "text/plain": [
              "array([[ 0.9407464 ,  0.82672924,  0.6206129 , ..., -0.6875567 ,\n",
              "        -0.03270151,  0.7163884 ],\n",
              "       [ 0.7775396 ,  0.94533306,  0.7754519 , ...,  1.3968894 ,\n",
              "         0.40760553,  0.41068536],\n",
              "       [-1.6978501 , -1.1447616 , -0.7130767 , ...,  0.9055441 ,\n",
              "         1.6526589 ,  1.6550374 ],\n",
              "       ...,\n",
              "       [ 1.2232778 ,  1.1247876 ,  0.97234184, ..., -1.6191126 ,\n",
              "        -1.4485176 , -1.444392  ],\n",
              "       [-0.2413047 ,  0.0353111 ,  0.33852684, ...,  0.33801585,\n",
              "         1.0690638 ,  1.0717709 ],\n",
              "       [-2.2956626 , -2.3028362 , -2.1886601 , ..., -0.53003746,\n",
              "         0.19239421,  0.19559526]], dtype=float32)"
            ]
          },
          "metadata": {
            "tags": []
          },
          "execution_count": 9
        }
      ]
    },
    {
      "cell_type": "code",
      "metadata": {
        "id": "HhinlGF_wkkc",
        "colab_type": "code",
        "colab": {}
      },
      "source": [
        "from keras import regularizers\n",
        "\n",
        "model = models.Sequential()\n",
        "#model.add(layers.Dropout(0.25))\n",
        "model.add(layers.Dense(256, activation='relu', input_shape=(X_train.shape[1],), \n",
        "                       kernel_regularizer=regularizers.l2(0.001)))\n",
        "       \n",
        "model.add(layers.Dense(256, activation='relu', kernel_regularizer=regularizers.l2(0.001)))\n",
        "\n",
        "model.add(layers.Dense(256, activation='relu', kernel_regularizer=regularizers.l2(0.001)))\n",
        "\n",
        "model.add(layers.Dense(256, activation='relu', kernel_regularizer=regularizers.l2(0.001)))\n",
        "\n",
        "model.add(layers.Dense(10, activation='softmax'))"
      ],
      "execution_count": 0,
      "outputs": []
    },
    {
      "cell_type": "code",
      "metadata": {
        "id": "SGas8DQyw2Jn",
        "colab_type": "code",
        "outputId": "22448d05-2af1-4243-89e6-9c88bff5ee9b",
        "colab": {
          "base_uri": "https://localhost:8080/",
          "height": 748
        }
      },
      "source": [
        "model.compile(optimizer='adam',\n",
        "              loss='categorical_crossentropy',\n",
        "              metrics=['acc'])\n",
        "history = model.fit(X_train,\n",
        "                    y_train,\n",
        "                    epochs=20,\n",
        "                    batch_size=32,\n",
        "                    validation_split=0.25)\n",
        "model.evaluate(X_test, y_test)"
      ],
      "execution_count": 0,
      "outputs": [
        {
          "output_type": "stream",
          "text": [
            "Train on 600 samples, validate on 200 samples\n",
            "Epoch 1/20\n",
            "600/600 [==============================] - 0s 828us/step - loss: 175.6312 - acc: 0.1583 - val_loss: 106.9598 - val_acc: 0.2000\n",
            "Epoch 2/20\n",
            "600/600 [==============================] - 0s 503us/step - loss: 53.3320 - acc: 0.3100 - val_loss: 32.2675 - val_acc: 0.3150\n",
            "Epoch 3/20\n",
            "600/600 [==============================] - 0s 526us/step - loss: 17.2654 - acc: 0.4683 - val_loss: 17.3313 - val_acc: 0.3150\n",
            "Epoch 4/20\n",
            "600/600 [==============================] - 0s 523us/step - loss: 7.1185 - acc: 0.6383 - val_loss: 12.5080 - val_acc: 0.3650\n",
            "Epoch 5/20\n",
            "600/600 [==============================] - 0s 518us/step - loss: 3.7829 - acc: 0.7900 - val_loss: 13.2321 - val_acc: 0.3850\n",
            "Epoch 6/20\n",
            "600/600 [==============================] - 0s 521us/step - loss: 3.6559 - acc: 0.7917 - val_loss: 11.4498 - val_acc: 0.4100\n",
            "Epoch 7/20\n",
            "600/600 [==============================] - 0s 517us/step - loss: 2.5025 - acc: 0.8667 - val_loss: 9.7925 - val_acc: 0.4550\n",
            "Epoch 8/20\n",
            "600/600 [==============================] - 0s 514us/step - loss: 1.7342 - acc: 0.9467 - val_loss: 9.2608 - val_acc: 0.4650\n",
            "Epoch 9/20\n",
            "600/600 [==============================] - 0s 523us/step - loss: 1.7405 - acc: 0.9517 - val_loss: 9.6822 - val_acc: 0.4600\n",
            "Epoch 10/20\n",
            "600/600 [==============================] - 0s 527us/step - loss: 1.6300 - acc: 0.9667 - val_loss: 9.0660 - val_acc: 0.4650\n",
            "Epoch 11/20\n",
            "600/600 [==============================] - 0s 519us/step - loss: 1.5011 - acc: 0.9817 - val_loss: 9.6146 - val_acc: 0.4850\n",
            "Epoch 12/20\n",
            "600/600 [==============================] - 0s 517us/step - loss: 1.5339 - acc: 0.9733 - val_loss: 11.3852 - val_acc: 0.4550\n",
            "Epoch 13/20\n",
            "600/600 [==============================] - 0s 519us/step - loss: 1.4989 - acc: 0.9767 - val_loss: 9.8655 - val_acc: 0.4400\n",
            "Epoch 14/20\n",
            "600/600 [==============================] - 0s 532us/step - loss: 1.3493 - acc: 0.9883 - val_loss: 9.9336 - val_acc: 0.4550\n",
            "Epoch 15/20\n",
            "600/600 [==============================] - 0s 512us/step - loss: 1.2927 - acc: 0.9983 - val_loss: 8.9975 - val_acc: 0.4650\n",
            "Epoch 16/20\n",
            "600/600 [==============================] - 0s 528us/step - loss: 1.2585 - acc: 1.0000 - val_loss: 9.0414 - val_acc: 0.4500\n",
            "Epoch 17/20\n",
            "600/600 [==============================] - 0s 538us/step - loss: 1.2302 - acc: 1.0000 - val_loss: 8.9197 - val_acc: 0.4600\n",
            "Epoch 18/20\n",
            "600/600 [==============================] - 0s 523us/step - loss: 1.2033 - acc: 1.0000 - val_loss: 8.8377 - val_acc: 0.4600\n",
            "Epoch 19/20\n",
            "600/600 [==============================] - 0s 517us/step - loss: 1.1778 - acc: 1.0000 - val_loss: 8.7737 - val_acc: 0.4600\n",
            "Epoch 20/20\n",
            "600/600 [==============================] - 0s 523us/step - loss: 1.1535 - acc: 1.0000 - val_loss: 8.7242 - val_acc: 0.4700\n",
            "200/200 [==============================] - 0s 212us/step\n"
          ],
          "name": "stdout"
        },
        {
          "output_type": "execute_result",
          "data": {
            "text/plain": [
              "[7.443049545288086, 0.49000000953674316]"
            ]
          },
          "metadata": {
            "tags": []
          },
          "execution_count": 11
        }
      ]
    },
    {
      "cell_type": "code",
      "metadata": {
        "id": "T-uO3T6DxBkj",
        "colab_type": "code",
        "outputId": "43e82bd1-ed27-4ca6-a533-c3a6c94aa5de",
        "colab": {
          "base_uri": "https://localhost:8080/",
          "height": 265
        }
      },
      "source": [
        "fig,ax = plt.subplots(ncols=2)\n",
        "\n",
        "ax[0].plot(history.history['loss'],label='train_loss')\n",
        "ax[0].plot(history.history['val_loss'],label='val_loss')\n",
        "ax[0].legend()\n",
        "ax[1].plot(history.history['acc'],label='train_acc')\n",
        "ax[1].plot(history.history['val_acc'],label='val_acc')\n",
        "ax[1].legend()\n",
        "plt.show()"
      ],
      "execution_count": 0,
      "outputs": [
        {
          "output_type": "display_data",
          "data": {
            "image/png": "[encoded data removed]",
            "text/plain": [
              "<Figure size 432x288 with 2 Axes>"
            ]
          },
          "metadata": {
            "tags": [],
            "needs_background": "light"
          }
        }
      ]
    },
    {
      "cell_type": "code",
      "metadata": {
        "id": "jIylmcM_xpKp",
        "colab_type": "code",
        "colab": {}
      },
      "source": [
        "with np.load('/content/drive/My Drive/DT2119 project/data/mfcc_delta_with_labels.npz',allow_pickle=True) as data:\n",
        "    X = data['MFCC']\n",
        "    y = data['labels']"
      ],
      "execution_count": 0,
      "outputs": []
    }
  ]
}