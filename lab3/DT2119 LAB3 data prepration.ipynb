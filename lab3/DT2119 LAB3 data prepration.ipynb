{
 "cells": [
  {
   "cell_type": "markdown",
   "metadata": {},
   "source": [
    "# DT2119 lab3 "
   ]
  },
  {
   "cell_type": "code",
   "execution_count": 1,
   "metadata": {},
   "outputs": [
    {
     "name": "stderr",
     "output_type": "stream",
     "text": [
      "Using TensorFlow backend.\n"
     ]
    }
   ],
   "source": [
    "import numpy as np\n",
    "#import tensorflow as tf\n",
    "import keras\n",
    "\n",
    "from lab3_tools import *\n",
    "from lab1_proto import *\n",
    "from lab2_proto import *\n",
    "from prondict import prondict\n",
    "from lab3_proto import *\n",
    "\n",
    "import matplotlib.pyplot as plt\n",
    "import os\n",
    "from tqdm.notebook import tqdm\n",
    "from sklearn.preprocessing import StandardScaler\n",
    "from keras.utils import np_utils\n",
    "from keras.models import Sequential\n",
    "from keras.layers import Dense, Activation"
   ]
  },
  {
   "cell_type": "code",
   "execution_count": 2,
   "metadata": {},
   "outputs": [],
   "source": [
    "phoneHMMs = np.load('lab2_models_all.npz',allow_pickle=True)['phoneHMMs'].item()\n",
    "phones = sorted(phoneHMMs.keys())\n",
    "nstates = {phone: phoneHMMs[phone]['means'].shape[0] for phone in phones}\n",
    "stateList = [ph + '_' + str(id) for ph in phones for id in range(nstates[ph])]"
   ]
  },
  {
   "cell_type": "code",
   "execution_count": 3,
   "metadata": {},
   "outputs": [],
   "source": [
    "np.savez(\"./statelist.npz\",stateList)"
   ]
  },
  {
   "cell_type": "code",
   "execution_count": 4,
   "metadata": {},
   "outputs": [
    {
     "data": {
      "text/plain": [
       "['ah_0',\n",
       " 'ah_1',\n",
       " 'ah_2',\n",
       " 'ao_0',\n",
       " 'ao_1',\n",
       " 'ao_2',\n",
       " 'ay_0',\n",
       " 'ay_1',\n",
       " 'ay_2',\n",
       " 'eh_0',\n",
       " 'eh_1',\n",
       " 'eh_2',\n",
       " 'ey_0',\n",
       " 'ey_1',\n",
       " 'ey_2',\n",
       " 'f_0',\n",
       " 'f_1',\n",
       " 'f_2',\n",
       " 'ih_0',\n",
       " 'ih_1',\n",
       " 'ih_2',\n",
       " 'iy_0',\n",
       " 'iy_1',\n",
       " 'iy_2',\n",
       " 'k_0',\n",
       " 'k_1',\n",
       " 'k_2',\n",
       " 'n_0',\n",
       " 'n_1',\n",
       " 'n_2',\n",
       " 'ow_0',\n",
       " 'ow_1',\n",
       " 'ow_2',\n",
       " 'r_0',\n",
       " 'r_1',\n",
       " 'r_2',\n",
       " 's_0',\n",
       " 's_1',\n",
       " 's_2',\n",
       " 'sil_0',\n",
       " 'sil_1',\n",
       " 'sil_2',\n",
       " 'sp_0',\n",
       " 't_0',\n",
       " 't_1',\n",
       " 't_2',\n",
       " 'th_0',\n",
       " 'th_1',\n",
       " 'th_2',\n",
       " 'uw_0',\n",
       " 'uw_1',\n",
       " 'uw_2',\n",
       " 'v_0',\n",
       " 'v_1',\n",
       " 'v_2',\n",
       " 'w_0',\n",
       " 'w_1',\n",
       " 'w_2',\n",
       " 'z_0',\n",
       " 'z_1',\n",
       " 'z_2']"
      ]
     },
     "execution_count": 4,
     "metadata": {},
     "output_type": "execute_result"
    }
   ],
   "source": [
    "stateList"
   ]
  },
  {
   "cell_type": "code",
   "execution_count": 7,
   "metadata": {},
   "outputs": [],
   "source": [
    "test_example, _= loadAudio('tidigits/disc_4.1.1/tidigits/train/man/ae/z9z6531a.wav')"
   ]
  },
  {
   "cell_type": "code",
   "execution_count": 6,
   "metadata": {},
   "outputs": [
    {
     "data": {
      "text/plain": [
       "('man', 'ae', 'z9z6531', 'a')"
      ]
     },
     "execution_count": 6,
     "metadata": {},
     "output_type": "execute_result"
    }
   ],
   "source": [
    "path2info('tidigits/disc_4.1.1/tidigits/train/man/ae/z9z6531a.wav')"
   ]
  },
  {
   "cell_type": "code",
   "execution_count": 7,
   "metadata": {},
   "outputs": [],
   "source": [
    "filename = 'tidigits/disc_4.1.1/tidigits/train/man/nw/z43a.wav'"
   ]
  },
  {
   "cell_type": "code",
   "execution_count": 8,
   "metadata": {},
   "outputs": [],
   "source": [
    "samples, samplingrate = loadAudio(filename)"
   ]
  },
  {
   "cell_type": "code",
   "execution_count": 9,
   "metadata": {},
   "outputs": [],
   "source": [
    "lmfcc = mfcc(samples)"
   ]
  },
  {
   "cell_type": "code",
   "execution_count": 10,
   "metadata": {},
   "outputs": [
    {
     "data": {
      "text/plain": [
       "(178, 13)"
      ]
     },
     "execution_count": 10,
     "metadata": {},
     "output_type": "execute_result"
    }
   ],
   "source": [
    "lmfcc.shape"
   ]
  },
  {
   "cell_type": "code",
   "execution_count": 11,
   "metadata": {},
   "outputs": [],
   "source": [
    "wordTrans = list(path2info(filename)[2])"
   ]
  },
  {
   "cell_type": "code",
   "execution_count": 12,
   "metadata": {},
   "outputs": [
    {
     "data": {
      "text/plain": [
       "['z', '4', '3']"
      ]
     },
     "execution_count": 12,
     "metadata": {},
     "output_type": "execute_result"
    }
   ],
   "source": [
    "wordTrans"
   ]
  },
  {
   "cell_type": "code",
   "execution_count": 13,
   "metadata": {},
   "outputs": [
    {
     "data": {
      "text/plain": [
       "['sil',\n",
       " 'z',\n",
       " 'iy',\n",
       " 'r',\n",
       " 'ow',\n",
       " 'sp',\n",
       " 'f',\n",
       " 'ao',\n",
       " 'r',\n",
       " 'sp',\n",
       " 'th',\n",
       " 'r',\n",
       " 'iy',\n",
       " 'sp',\n",
       " 'sil']"
      ]
     },
     "execution_count": 13,
     "metadata": {},
     "output_type": "execute_result"
    }
   ],
   "source": [
    "from prondict import prondict\n",
    "phoneTrans = words2phones(wordTrans, prondict)\n",
    "phoneTrans"
   ]
  },
  {
   "cell_type": "code",
   "execution_count": 14,
   "metadata": {},
   "outputs": [],
   "source": [
    "utteranceHMM = concatHMMs(phoneHMMs, phoneTrans)"
   ]
  },
  {
   "cell_type": "code",
   "execution_count": 15,
   "metadata": {},
   "outputs": [
    {
     "data": {
      "text/plain": [
       "array([[0.8833106 , 0.1166894 , 0.        , ..., 0.        , 0.        ,\n",
       "        0.        ],\n",
       "       [0.        , 0.9164465 , 0.08355348, ..., 0.        , 0.        ,\n",
       "        0.        ],\n",
       "       [0.        , 0.        , 0.802877  , ..., 0.        , 0.        ,\n",
       "        0.        ],\n",
       "       ...,\n",
       "       [0.        , 0.        , 0.        , ..., 0.9164465 , 0.08355348,\n",
       "        0.        ],\n",
       "       [0.        , 0.        , 0.        , ..., 0.        , 0.802877  ,\n",
       "        0.197123  ],\n",
       "       [0.        , 0.        , 0.        , ..., 0.        , 0.        ,\n",
       "        1.        ]])"
      ]
     },
     "execution_count": 15,
     "metadata": {},
     "output_type": "execute_result"
    }
   ],
   "source": [
    "utteranceHMM['transmat']"
   ]
  },
  {
   "cell_type": "code",
   "execution_count": 16,
   "metadata": {},
   "outputs": [
    {
     "data": {
      "text/plain": [
       "dict_keys(['filename', 'samples', 'gender', 'speaker', 'digits', 'repetition', 'lmfcc', 'wordTrans', 'phoneTrans', 'utteranceHMM', 'stateTrans', 'obsloglik', 'viterbiLoglik', 'viterbiPath', 'viterbiStateTrans'])"
      ]
     },
     "execution_count": 16,
     "metadata": {},
     "output_type": "execute_result"
    }
   ],
   "source": [
    "# Load example data\n",
    "example = np.load('lab3_example.npz',allow_pickle=True)['example'].item()\n",
    "example.keys()"
   ]
  },
  {
   "cell_type": "code",
   "execution_count": 17,
   "metadata": {},
   "outputs": [
    {
     "name": "stdout",
     "output_type": "stream",
     "text": [
      "True\n",
      "True\n"
     ]
    }
   ],
   "source": [
    "print(np.allclose(example['lmfcc'], lmfcc))\n",
    "print(example['wordTrans'] == wordTrans)"
   ]
  },
  {
   "cell_type": "code",
   "execution_count": 18,
   "metadata": {},
   "outputs": [
    {
     "data": {
      "text/plain": [
       "array([[0.8833106 , 0.1166894 , 0.        , ..., 0.        , 0.        ,\n",
       "        0.        ],\n",
       "       [0.        , 0.9164465 , 0.08355348, ..., 0.        , 0.        ,\n",
       "        0.        ],\n",
       "       [0.        , 0.        , 0.802877  , ..., 0.        , 0.        ,\n",
       "        0.        ],\n",
       "       ...,\n",
       "       [0.        , 0.        , 0.        , ..., 0.9164465 , 0.08355348,\n",
       "        0.        ],\n",
       "       [0.        , 0.        , 0.        , ..., 0.        , 0.802877  ,\n",
       "        0.197123  ],\n",
       "       [0.        , 0.        , 0.        , ..., 0.        , 0.        ,\n",
       "        1.        ]])"
      ]
     },
     "execution_count": 18,
     "metadata": {},
     "output_type": "execute_result"
    }
   ],
   "source": [
    "example['utteranceHMM']['transmat']\n"
   ]
  },
  {
   "cell_type": "code",
   "execution_count": 19,
   "metadata": {},
   "outputs": [
    {
     "name": "stdout",
     "output_type": "stream",
     "text": [
      "True\n",
      "True\n",
      "True\n",
      "True\n"
     ]
    }
   ],
   "source": [
    "for i in example['utteranceHMM'].keys():\n",
    "    print(np.allclose(utteranceHMM[i], example['utteranceHMM'][i]))\n",
    "    \n",
    "#print(\"Number of states for the concatenated HMM of the example (0f3):\", utteranceHMM['means'].shape[0])"
   ]
  },
  {
   "cell_type": "code",
   "execution_count": 20,
   "metadata": {},
   "outputs": [
    {
     "data": {
      "text/plain": [
       "39"
      ]
     },
     "execution_count": 20,
     "metadata": {},
     "output_type": "execute_result"
    }
   ],
   "source": [
    "utteranceHMM['means'].shape[0]"
   ]
  },
  {
   "cell_type": "code",
   "execution_count": 21,
   "metadata": {},
   "outputs": [
    {
     "data": {
      "text/plain": [
       "40"
      ]
     },
     "execution_count": 21,
     "metadata": {},
     "output_type": "execute_result"
    }
   ],
   "source": [
    "utteranceHMM['transmat'].shape[0]"
   ]
  },
  {
   "cell_type": "code",
   "execution_count": 22,
   "metadata": {},
   "outputs": [],
   "source": [
    "obsloglik = log_multivariate_normal_density_diag(lmfcc,\n",
    "                                    utteranceHMM['means'],\n",
    "                                    utteranceHMM['covars'])"
   ]
  },
  {
   "cell_type": "code",
   "execution_count": 23,
   "metadata": {},
   "outputs": [
    {
     "data": {
      "image/png": "[encoded data removed]",
      "text/plain": [
       "<Figure size 864x216 with 2 Axes>"
      ]
     },
     "metadata": {
      "needs_background": "light"
     },
     "output_type": "display_data"
    }
   ],
   "source": [
    "plt.figure(figsize=(12, 3))\n",
    "plt.pcolormesh(np.array(obsloglik.T))\n",
    "plt.colorbar()\n",
    "plt.title('obsloglik for z43')  #'sil,ow,sil'\n",
    "plt.show()"
   ]
  },
  {
   "cell_type": "code",
   "execution_count": 24,
   "metadata": {},
   "outputs": [],
   "source": [
    "stateTrans = [phone + '_' + str(stateid) for phone in phoneTrans\n",
    "                  for stateid in range(nstates[phone])]"
   ]
  },
  {
   "cell_type": "code",
   "execution_count": 25,
   "metadata": {},
   "outputs": [
    {
     "data": {
      "text/plain": [
       "39"
      ]
     },
     "execution_count": 25,
     "metadata": {},
     "output_type": "execute_result"
    }
   ],
   "source": [
    "len(stateTrans)"
   ]
  },
  {
   "cell_type": "code",
   "execution_count": 26,
   "metadata": {},
   "outputs": [
    {
     "data": {
      "text/plain": [
       "(178, 13)"
      ]
     },
     "execution_count": 26,
     "metadata": {},
     "output_type": "execute_result"
    }
   ],
   "source": [
    "lmfcc.shape"
   ]
  },
  {
   "cell_type": "code",
   "execution_count": 27,
   "metadata": {},
   "outputs": [
    {
     "name": "stderr",
     "output_type": "stream",
     "text": [
      "/Applications/anaconda3/lib/python3.7/site-packages/ipykernel_launcher.py:1: RuntimeWarning: divide by zero encountered in log\n",
      "  \"\"\"Entry point for launching an IPython kernel.\n"
     ]
    },
    {
     "data": {
      "text/plain": [
       "[<matplotlib.lines.Line2D at 0x1a209e84a8>]"
      ]
     },
     "execution_count": 27,
     "metadata": {},
     "output_type": "execute_result"
    },
    {
     "data": {
      "image/png": "[encoded data removed]",
      "text/plain": [
       "<Figure size 432x288 with 1 Axes>"
      ]
     },
     "metadata": {
      "needs_background": "light"
     },
     "output_type": "display_data"
    }
   ],
   "source": [
    "viterbi_loglik, viterbi_path = viterbi(obsloglik, np.log(utteranceHMM['startprob']), np.log(utteranceHMM['transmat']), True)\n",
    "plt.plot(viterbi_path, np.arange(len(viterbi_path)))"
   ]
  },
  {
   "cell_type": "code",
   "execution_count": 28,
   "metadata": {},
   "outputs": [
    {
     "name": "stderr",
     "output_type": "stream",
     "text": [
      "/Users/flora/Desktop/KU/DT2119/lab3/dt2119_lab3_2019-04-25/lab3_proto.py:57: RuntimeWarning: divide by zero encountered in log\n",
      "  np.log(utteranceHMM['startprob']),\n",
      "/Users/flora/Desktop/KU/DT2119/lab3/dt2119_lab3_2019-04-25/lab3_proto.py:58: RuntimeWarning: divide by zero encountered in log\n",
      "  np.log(utteranceHMM['transmat']),\n"
     ]
    }
   ],
   "source": [
    "viterbiStateTrans = forcedAlignment(lmfcc, phoneHMMs, phoneTrans)"
   ]
  },
  {
   "cell_type": "code",
   "execution_count": 29,
   "metadata": {},
   "outputs": [
    {
     "data": {
      "text/plain": [
       "['sil_0',\n",
       " 'sil_1',\n",
       " 'sil_1',\n",
       " 'sil_1',\n",
       " 'sil_1',\n",
       " 'sil_1',\n",
       " 'sil_1',\n",
       " 'sil_1',\n",
       " 'sil_1',\n",
       " 'sil_1',\n",
       " 'sil_1',\n",
       " 'sil_1',\n",
       " 'sil_1',\n",
       " 'sil_1',\n",
       " 'sil_1',\n",
       " 'sil_1',\n",
       " 'sil_1',\n",
       " 'sil_1',\n",
       " 'sil_1',\n",
       " 'sil_2',\n",
       " 'z_0',\n",
       " 'z_0',\n",
       " 'z_0',\n",
       " 'z_0',\n",
       " 'z_1',\n",
       " 'z_2',\n",
       " 'z_2',\n",
       " 'z_2',\n",
       " 'z_2',\n",
       " 'z_2',\n",
       " 'z_2',\n",
       " 'z_2',\n",
       " 'z_2',\n",
       " 'z_2',\n",
       " 'z_2',\n",
       " 'z_2',\n",
       " 'iy_0',\n",
       " 'iy_0',\n",
       " 'iy_0',\n",
       " 'iy_0',\n",
       " 'iy_0',\n",
       " 'iy_0',\n",
       " 'iy_0',\n",
       " 'iy_0',\n",
       " 'iy_1',\n",
       " 'iy_2',\n",
       " 'r_0',\n",
       " 'r_0',\n",
       " 'r_0',\n",
       " 'r_0',\n",
       " 'r_0',\n",
       " 'r_0',\n",
       " 'r_0',\n",
       " 'r_0',\n",
       " 'r_0',\n",
       " 'r_0',\n",
       " 'r_1',\n",
       " 'r_2',\n",
       " 'ow_0',\n",
       " 'ow_1',\n",
       " 'ow_2',\n",
       " 'ow_2',\n",
       " 'ow_2',\n",
       " 'ow_2',\n",
       " 'ow_2',\n",
       " 'ow_2',\n",
       " 'ow_2',\n",
       " 'ow_2',\n",
       " 'ow_2',\n",
       " 'f_0',\n",
       " 'f_1',\n",
       " 'f_1',\n",
       " 'f_1',\n",
       " 'f_1',\n",
       " 'f_1',\n",
       " 'f_1',\n",
       " 'f_1',\n",
       " 'f_1',\n",
       " 'f_1',\n",
       " 'f_1',\n",
       " 'f_1',\n",
       " 'f_2',\n",
       " 'ao_0',\n",
       " 'ao_1',\n",
       " 'ao_1',\n",
       " 'ao_1',\n",
       " 'ao_1',\n",
       " 'ao_1',\n",
       " 'ao_1',\n",
       " 'ao_1',\n",
       " 'ao_1',\n",
       " 'ao_1',\n",
       " 'ao_1',\n",
       " 'ao_1',\n",
       " 'ao_1',\n",
       " 'ao_1',\n",
       " 'ao_1',\n",
       " 'ao_2',\n",
       " 'ao_2',\n",
       " 'ao_2',\n",
       " 'ao_2',\n",
       " 'ao_2',\n",
       " 'ao_2',\n",
       " 'ao_2',\n",
       " 'ao_2',\n",
       " 'ao_2',\n",
       " 'ao_2',\n",
       " 'ao_2',\n",
       " 'r_0',\n",
       " 'r_0',\n",
       " 'r_0',\n",
       " 'r_1',\n",
       " 'r_2',\n",
       " 'th_0',\n",
       " 'th_0',\n",
       " 'th_0',\n",
       " 'th_0',\n",
       " 'th_0',\n",
       " 'th_0',\n",
       " 'th_0',\n",
       " 'th_0',\n",
       " 'th_0',\n",
       " 'th_0',\n",
       " 'th_1',\n",
       " 'th_1',\n",
       " 'th_1',\n",
       " 'th_2',\n",
       " 'r_0',\n",
       " 'r_0',\n",
       " 'r_0',\n",
       " 'r_0',\n",
       " 'r_0',\n",
       " 'r_0',\n",
       " 'r_0',\n",
       " 'r_0',\n",
       " 'r_0',\n",
       " 'r_1',\n",
       " 'r_2',\n",
       " 'iy_0',\n",
       " 'iy_0',\n",
       " 'iy_0',\n",
       " 'iy_0',\n",
       " 'iy_0',\n",
       " 'iy_0',\n",
       " 'iy_0',\n",
       " 'iy_0',\n",
       " 'iy_0',\n",
       " 'iy_0',\n",
       " 'iy_1',\n",
       " 'iy_1',\n",
       " 'iy_2',\n",
       " 'iy_2',\n",
       " 'iy_2',\n",
       " 'iy_2',\n",
       " 'iy_2',\n",
       " 'iy_2',\n",
       " 'iy_2',\n",
       " 'iy_2',\n",
       " 'sil_0',\n",
       " 'sil_0',\n",
       " 'sil_0',\n",
       " 'sil_0',\n",
       " 'sil_0',\n",
       " 'sil_0',\n",
       " 'sil_0',\n",
       " 'sil_0',\n",
       " 'sil_0',\n",
       " 'sil_0',\n",
       " 'sil_0',\n",
       " 'sil_0',\n",
       " 'sil_0',\n",
       " 'sil_0',\n",
       " 'sil_0',\n",
       " 'sil_0',\n",
       " 'sil_0',\n",
       " 'sil_0',\n",
       " 'sil_1',\n",
       " 'sil_2']"
      ]
     },
     "execution_count": 29,
     "metadata": {},
     "output_type": "execute_result"
    }
   ],
   "source": [
    "viterbiStateTrans"
   ]
  },
  {
   "cell_type": "code",
   "execution_count": 30,
   "metadata": {},
   "outputs": [
    {
     "data": {
      "text/plain": [
       "178"
      ]
     },
     "execution_count": 30,
     "metadata": {},
     "output_type": "execute_result"
    }
   ],
   "source": [
    "len(viterbiStateTrans)"
   ]
  },
  {
   "cell_type": "code",
   "execution_count": 31,
   "metadata": {},
   "outputs": [
    {
     "data": {
      "text/plain": [
       "'0 0.01 sil_0\\n0.01 0.19000000000000003 sil_1\\n0.19000000000000003 0.20000000000000004 sil_2\\n0.20000000000000004 0.24000000000000007 z_0\\n0.24000000000000007 0.25000000000000006 z_1\\n0.25000000000000006 0.36000000000000015 z_2\\n0.36000000000000015 0.4400000000000002 iy_0\\n0.4400000000000002 0.45000000000000023 iy_1\\n0.45000000000000023 0.46000000000000024 iy_2\\n0.46000000000000024 0.5600000000000003 r_0\\n0.5600000000000003 0.5700000000000003 r_1\\n0.5700000000000003 0.5800000000000003 r_2\\n0.5800000000000003 0.5900000000000003 ow_0\\n0.5900000000000003 0.6000000000000003 ow_1\\n0.6000000000000003 0.6900000000000004 ow_2\\n0.6900000000000004 0.7000000000000004 f_0\\n0.7000000000000004 0.8100000000000005 f_1\\n0.8100000000000005 0.8200000000000005 f_2\\n0.8200000000000005 0.8300000000000005 ao_0\\n0.8300000000000005 0.9700000000000006 ao_1\\n0.9700000000000006 1.0800000000000007 ao_2\\n1.0800000000000007 1.1100000000000008 r_0\\n1.1100000000000008 1.1200000000000008 r_1\\n1.1200000000000008 1.1300000000000008 r_2\\n1.1300000000000008 1.2300000000000009 th_0\\n1.2300000000000009 1.260000000000001 th_1\\n1.260000000000001 1.270000000000001 th_2\\n1.270000000000001 1.360000000000001 r_0\\n1.360000000000001 1.370000000000001 r_1\\n1.370000000000001 1.380000000000001 r_2\\n1.380000000000001 1.480000000000001 iy_0\\n1.480000000000001 1.500000000000001 iy_1\\n1.500000000000001 1.5800000000000012 iy_2\\n1.5800000000000012 1.7600000000000013 sil_0\\n1.7600000000000013 1.7700000000000014 sil_1\\n1.7700000000000014 1.7800000000000014 sil_2\\n'"
      ]
     },
     "execution_count": 31,
     "metadata": {},
     "output_type": "execute_result"
    }
   ],
   "source": [
    "frames2trans(viterbiStateTrans, outfilename='z43a.lab')"
   ]
  },
  {
   "cell_type": "markdown",
   "metadata": {},
   "source": [
    "# feature extraction"
   ]
  },
  {
   "cell_type": "code",
   "execution_count": 54,
   "metadata": {},
   "outputs": [],
   "source": [
    "def feature_extract(filedir):\n",
    "    traindata = []\n",
    "    count = 0\n",
    "    for root, dirs, files in tqdm(os.walk(filedir)):\n",
    "        for file in files:\n",
    "            if file.endswith('.wav'):\n",
    "                filename = os.path.join(root,file)\n",
    "                samples, samplingrate = loadAudio(filename)\n",
    "                lmfcc = mfcc(samples)\n",
    "                spec = mspec(samples)\n",
    "                wordTrans = list(path2info(filename)[2])\n",
    "                phoneTrans = words2phones(wordTrans, prondict)\n",
    "                targets = forcedAlignment(lmfcc, phoneHMMs, phoneTrans)\n",
    "                targets = [stateList.index(t) for t in targets]\n",
    "                \n",
    "                traindata.append({'filename': filename, 'lmfcc': lmfcc,\n",
    "                              'mspec': spec, 'targets': targets})\n",
    "    \n",
    "    return traindata"
   ]
  },
  {
   "cell_type": "code",
   "execution_count": 33,
   "metadata": {},
   "outputs": [],
   "source": [
    "#train_data = feature_extract('tidigits/disc_4.1.1/tidigits/train')"
   ]
  },
  {
   "cell_type": "code",
   "execution_count": null,
   "metadata": {},
   "outputs": [],
   "source": [
    "np.savez('train_data.npz', train_data=train_data)"
   ]
  },
  {
   "cell_type": "code",
   "execution_count": 55,
   "metadata": {},
   "outputs": [
    {
     "data": {
      "application/vnd.jupyter.widget-view+json": {
       "model_id": "2487f466d3d647a88af4006725576680",
       "version_major": 2,
       "version_minor": 0
      },
      "text/plain": [
       "HBox(children=(FloatProgress(value=1.0, bar_style='info', max=1.0), HTML(value='')))"
      ]
     },
     "metadata": {},
     "output_type": "display_data"
    },
    {
     "name": "stderr",
     "output_type": "stream",
     "text": [
      "/Users/flora/Desktop/KU/DT2119/lab3/dt2119_lab3_2019-04-25/lab3_proto.py:57: RuntimeWarning: divide by zero encountered in log\n",
      "  np.log(utteranceHMM['startprob']),\n",
      "/Users/flora/Desktop/KU/DT2119/lab3/dt2119_lab3_2019-04-25/lab3_proto.py:58: RuntimeWarning: divide by zero encountered in log\n",
      "  np.log(utteranceHMM['transmat']),\n"
     ]
    },
    {
     "name": "stdout",
     "output_type": "stream",
     "text": [
      "\n"
     ]
    }
   ],
   "source": [
    "test_data = feature_extract('tidigits/disc_4.2.1/tidigits/test')"
   ]
  },
  {
   "cell_type": "code",
   "execution_count": 57,
   "metadata": {},
   "outputs": [],
   "source": [
    "np.savez('test_data.npz', test_data=test_data)"
   ]
  },
  {
   "cell_type": "code",
   "execution_count": 56,
   "metadata": {},
   "outputs": [
    {
     "data": {
      "text/plain": [
       "8700"
      ]
     },
     "execution_count": 56,
     "metadata": {},
     "output_type": "execute_result"
    }
   ],
   "source": [
    "len(test_data)"
   ]
  },
  {
   "cell_type": "code",
   "execution_count": 4,
   "metadata": {},
   "outputs": [],
   "source": [
    "train_data = np.load('train_data.npz', allow_pickle=True)['traindata']\n",
    "N = len(train_data)\n",
    "n_val = round(N*0.1)\n",
    "# # shuffle\n",
    "indexes = np.random.permutation(N)\n",
    "X = np.take(train_data,indexes)\n",
    "X_val = X[:n_val]\n",
    "X = X[n_val:]\n",
    "np.savez('train.npz', X=X)\n",
    "np.savez('val.npz', X_val=X_val)"
   ]
  },
  {
   "cell_type": "code",
   "execution_count": 5,
   "metadata": {},
   "outputs": [
    {
     "data": {
      "text/plain": [
       "8623"
      ]
     },
     "execution_count": 5,
     "metadata": {},
     "output_type": "execute_result"
    }
   ],
   "source": [
    "len(train_data)"
   ]
  },
  {
   "cell_type": "code",
   "execution_count": 6,
   "metadata": {},
   "outputs": [
    {
     "data": {
      "text/plain": [
       "(7761,)"
      ]
     },
     "execution_count": 6,
     "metadata": {},
     "output_type": "execute_result"
    }
   ],
   "source": [
    "X.shape"
   ]
  },
  {
   "cell_type": "code",
   "execution_count": 7,
   "metadata": {},
   "outputs": [
    {
     "data": {
      "text/plain": [
       "(161, 13)"
      ]
     },
     "execution_count": 7,
     "metadata": {},
     "output_type": "execute_result"
    }
   ],
   "source": [
    "X[0]['lmfcc'].shape"
   ]
  },
  {
   "cell_type": "code",
   "execution_count": 8,
   "metadata": {},
   "outputs": [
    {
     "data": {
      "text/plain": [
       "(161, 40)"
      ]
     },
     "execution_count": 8,
     "metadata": {},
     "output_type": "execute_result"
    }
   ],
   "source": [
    "X[0]['mspec'].shape"
   ]
  },
  {
   "cell_type": "code",
   "execution_count": 9,
   "metadata": {},
   "outputs": [
    {
     "data": {
      "text/plain": [
       "(862,)"
      ]
     },
     "execution_count": 9,
     "metadata": {},
     "output_type": "execute_result"
    }
   ],
   "source": [
    "X_val.shape"
   ]
  },
  {
   "cell_type": "code",
   "execution_count": 2,
   "metadata": {},
   "outputs": [
    {
     "name": "stdout",
     "output_type": "stream",
     "text": [
      "0.9000347906760988 0.0999652093239012\n",
      "Trainign set: Women-> 3922 , Men-> 3839\n",
      "Validation set: Women-> 466 , Men-> 396\n"
     ]
    }
   ],
   "source": [
    "X = np.load('train.npz', allow_pickle=True)['X']\n",
    "X_val = np.load('val.npz', allow_pickle=True)['X_val']\n",
    "N = len(X) + len(X_val)\n",
    "print(len(X)/N,len(X_val)/N)\n",
    "# count men and women\n",
    "## Trainingset\n",
    "N_X_women = sum(1 for data in X if data['filename'].split(\"/\")[-3] == 'woman')\n",
    "N_X_man = len(X)-N_X_women\n",
    "## Validationset\n",
    "N_X_val_women = sum(1 for data in X_val if data['filename'].split(\"/\")[-3] == 'woman')\n",
    "N_X_val_man = len(X_val)-N_X_val_women\n",
    "\n",
    "\n",
    "print(\"Trainign set: Women->\",N_X_women,\", Men->\",N_X_man)\n",
    "print(\"Validation set: Women->\",N_X_val_women,\", Men->\",N_X_val_man)"
   ]
  },
  {
   "cell_type": "code",
   "execution_count": 11,
   "metadata": {},
   "outputs": [],
   "source": [
    " N = sum([len(x['targets']) for x in X])"
   ]
  },
  {
   "cell_type": "code",
   "execution_count": 12,
   "metadata": {},
   "outputs": [],
   "source": [
    " N1 = sum([len(x['targets']) for x in X_val])"
   ]
  },
  {
   "cell_type": "code",
   "execution_count": 13,
   "metadata": {},
   "outputs": [
    {
     "data": {
      "text/plain": [
       "1507057"
      ]
     },
     "execution_count": 13,
     "metadata": {},
     "output_type": "execute_result"
    }
   ],
   "source": [
    "N1+N"
   ]
  },
  {
   "cell_type": "markdown",
   "metadata": {},
   "source": [
    "# dynamic or nondynamic features"
   ]
  },
  {
   "cell_type": "code",
   "execution_count": 4,
   "metadata": {},
   "outputs": [],
   "source": [
    "test_data = np.load('test_data.npz', allow_pickle=True)['test_data']\n",
    "N = len(test_data)"
   ]
  },
  {
   "cell_type": "code",
   "execution_count": 15,
   "metadata": {},
   "outputs": [
    {
     "data": {
      "application/vnd.jupyter.widget-view+json": {
       "model_id": "ed41dbe43523414a9f10816fdb6b5945",
       "version_major": 2,
       "version_minor": 0
      },
      "text/plain": [
       "HBox(children=(FloatProgress(value=0.0, max=7761.0), HTML(value='')))"
      ]
     },
     "metadata": {},
     "output_type": "display_data"
    },
    {
     "name": "stdout",
     "output_type": "stream",
     "text": [
      "\n"
     ]
    }
   ],
   "source": [
    "d_lmfcc_train, d_mspec_train, train_y = get_features(X,dynamic=True)\n"
   ]
  },
  {
   "cell_type": "code",
   "execution_count": 16,
   "metadata": {},
   "outputs": [
    {
     "data": {
      "text/plain": [
       "(1354605, 91)"
      ]
     },
     "execution_count": 16,
     "metadata": {},
     "output_type": "execute_result"
    }
   ],
   "source": [
    "d_lmfcc_train.shape"
   ]
  },
  {
   "cell_type": "code",
   "execution_count": 19,
   "metadata": {},
   "outputs": [
    {
     "data": {
      "text/plain": [
       "1354605"
      ]
     },
     "execution_count": 19,
     "metadata": {},
     "output_type": "execute_result"
    }
   ],
   "source": [
    "len(train_y)"
   ]
  },
  {
   "cell_type": "code",
   "execution_count": 20,
   "metadata": {},
   "outputs": [
    {
     "data": {
      "text/plain": [
       "(1354605, 280)"
      ]
     },
     "execution_count": 20,
     "metadata": {},
     "output_type": "execute_result"
    }
   ],
   "source": [
    "d_mspec_train.shape"
   ]
  },
  {
   "cell_type": "code",
   "execution_count": 21,
   "metadata": {},
   "outputs": [
    {
     "data": {
      "application/vnd.jupyter.widget-view+json": {
       "model_id": "1f3b2779c424484d98590a2514cdf279",
       "version_major": 2,
       "version_minor": 0
      },
      "text/plain": [
       "HBox(children=(FloatProgress(value=0.0, max=862.0), HTML(value='')))"
      ]
     },
     "metadata": {},
     "output_type": "display_data"
    },
    {
     "name": "stdout",
     "output_type": "stream",
     "text": [
      "\n"
     ]
    }
   ],
   "source": [
    "d_lmfcc_val, d_mspec_val, val_y = get_features(X_val,dynamic=True)"
   ]
  },
  {
   "cell_type": "code",
   "execution_count": 22,
   "metadata": {},
   "outputs": [
    {
     "data": {
      "text/plain": [
       "(152452, 91)"
      ]
     },
     "execution_count": 22,
     "metadata": {},
     "output_type": "execute_result"
    }
   ],
   "source": [
    "d_lmfcc_val.shape"
   ]
  },
  {
   "cell_type": "code",
   "execution_count": 23,
   "metadata": {},
   "outputs": [
    {
     "data": {
      "text/plain": [
       "152452"
      ]
     },
     "execution_count": 23,
     "metadata": {},
     "output_type": "execute_result"
    }
   ],
   "source": [
    "len(val_y)"
   ]
  },
  {
   "cell_type": "code",
   "execution_count": 24,
   "metadata": {},
   "outputs": [
    {
     "data": {
      "application/vnd.jupyter.widget-view+json": {
       "model_id": "e77545b83b4d4b35a795807651257b9a",
       "version_major": 2,
       "version_minor": 0
      },
      "text/plain": [
       "HBox(children=(FloatProgress(value=0.0, max=8700.0), HTML(value='')))"
      ]
     },
     "metadata": {},
     "output_type": "display_data"
    },
    {
     "name": "stdout",
     "output_type": "stream",
     "text": [
      "\n"
     ]
    }
   ],
   "source": [
    "d_lmfcc_test, d_mspec_test, test_y = get_features(test_data,dynamic=True)"
   ]
  },
  {
   "cell_type": "code",
   "execution_count": 26,
   "metadata": {},
   "outputs": [
    {
     "data": {
      "text/plain": [
       "(1526682, 91)"
      ]
     },
     "execution_count": 26,
     "metadata": {},
     "output_type": "execute_result"
    }
   ],
   "source": [
    "d_lmfcc_test.shape"
   ]
  },
  {
   "cell_type": "code",
   "execution_count": 27,
   "metadata": {},
   "outputs": [
    {
     "data": {
      "text/plain": [
       "1526682"
      ]
     },
     "execution_count": 27,
     "metadata": {},
     "output_type": "execute_result"
    }
   ],
   "source": [
    "len(test_y)"
   ]
  },
  {
   "cell_type": "code",
   "execution_count": 28,
   "metadata": {},
   "outputs": [],
   "source": [
    "np.savez('d_lmfcc_train.npz', d_lmfcc_train=d_lmfcc_train)\n",
    "np.savez('d_lmfcc_val.npz', d_lmfcc_val=d_lmfcc_val)\n",
    "np.savez('d_lmfcc_test.npz', d_lmfcc_test=d_lmfcc_test)\n",
    "\n",
    "np.savez('d_mspec_train.npz', d_mspec_train=d_mspec_train)\n",
    "np.savez('d_mspec_val.npz', d_mspec_val=d_mspec_val)\n",
    "np.savez('d_mspec_test.npz', d_mspec_test=d_mspec_test)\n",
    "\n",
    "np.savez('train_y',train_y=train_y)\n",
    "np.savez('val_y',val_y=val_y)\n",
    "np.savez('test_y',test_y=test_y)"
   ]
  },
  {
   "cell_type": "code",
   "execution_count": 3,
   "metadata": {},
   "outputs": [
    {
     "data": {
      "application/vnd.jupyter.widget-view+json": {
       "model_id": "69e385b48e4c49a287807cb941b36661",
       "version_major": 2,
       "version_minor": 0
      },
      "text/plain": [
       "HBox(children=(FloatProgress(value=0.0, max=7761.0), HTML(value='')))"
      ]
     },
     "metadata": {},
     "output_type": "display_data"
    },
    {
     "name": "stdout",
     "output_type": "stream",
     "text": [
      "\n"
     ]
    },
    {
     "data": {
      "application/vnd.jupyter.widget-view+json": {
       "model_id": "be6041253ea64337983e7e1bbc4cef16",
       "version_major": 2,
       "version_minor": 0
      },
      "text/plain": [
       "HBox(children=(FloatProgress(value=0.0, max=862.0), HTML(value='')))"
      ]
     },
     "metadata": {},
     "output_type": "display_data"
    },
    {
     "name": "stdout",
     "output_type": "stream",
     "text": [
      "\n"
     ]
    },
    {
     "ename": "NameError",
     "evalue": "name 'test_data' is not defined",
     "output_type": "error",
     "traceback": [
      "\u001b[0;31m---------------------------------------------------------------------------\u001b[0m",
      "\u001b[0;31mNameError\u001b[0m                                 Traceback (most recent call last)",
      "\u001b[0;32m<ipython-input-3-553adef4a0bf>\u001b[0m in \u001b[0;36m<module>\u001b[0;34m\u001b[0m\n\u001b[1;32m      1\u001b[0m \u001b[0mlmfcc_train_x\u001b[0m\u001b[0;34m,\u001b[0m \u001b[0mmspec_train_x\u001b[0m\u001b[0;34m,\u001b[0m \u001b[0m_\u001b[0m \u001b[0;34m=\u001b[0m \u001b[0mget_features\u001b[0m\u001b[0;34m(\u001b[0m\u001b[0mX\u001b[0m\u001b[0;34m,\u001b[0m\u001b[0mdynamic\u001b[0m\u001b[0;34m=\u001b[0m\u001b[0;32mFalse\u001b[0m\u001b[0;34m)\u001b[0m\u001b[0;34m\u001b[0m\u001b[0;34m\u001b[0m\u001b[0m\n\u001b[1;32m      2\u001b[0m \u001b[0mlmfcc_val_x\u001b[0m\u001b[0;34m,\u001b[0m \u001b[0mmspec_val_x\u001b[0m\u001b[0;34m,\u001b[0m \u001b[0m_\u001b[0m \u001b[0;34m=\u001b[0m \u001b[0mget_features\u001b[0m\u001b[0;34m(\u001b[0m\u001b[0mX_val\u001b[0m\u001b[0;34m,\u001b[0m\u001b[0mdynamic\u001b[0m\u001b[0;34m=\u001b[0m\u001b[0;32mFalse\u001b[0m\u001b[0;34m)\u001b[0m\u001b[0;34m\u001b[0m\u001b[0;34m\u001b[0m\u001b[0m\n\u001b[0;32m----> 3\u001b[0;31m \u001b[0mlmfcc_test_x\u001b[0m\u001b[0;34m,\u001b[0m \u001b[0mmspec_test_x\u001b[0m\u001b[0;34m,\u001b[0m \u001b[0m_\u001b[0m \u001b[0;34m=\u001b[0m \u001b[0mget_features\u001b[0m\u001b[0;34m(\u001b[0m\u001b[0mtest_data\u001b[0m\u001b[0;34m,\u001b[0m\u001b[0mdynamic\u001b[0m\u001b[0;34m=\u001b[0m\u001b[0;32mFalse\u001b[0m\u001b[0;34m)\u001b[0m\u001b[0;34m\u001b[0m\u001b[0;34m\u001b[0m\u001b[0m\n\u001b[0m",
      "\u001b[0;31mNameError\u001b[0m: name 'test_data' is not defined"
     ]
    }
   ],
   "source": [
    "lmfcc_train_x, mspec_train_x, _ = get_features(X,dynamic=False)\n",
    "lmfcc_val_x, mspec_val_x, _ = get_features(X_val,dynamic=False)\n"
   ]
  },
  {
   "cell_type": "code",
   "execution_count": 5,
   "metadata": {},
   "outputs": [
    {
     "data": {
      "application/vnd.jupyter.widget-view+json": {
       "model_id": "410a0cfed8f54a57856fd6508415ced2",
       "version_major": 2,
       "version_minor": 0
      },
      "text/plain": [
       "HBox(children=(FloatProgress(value=0.0, max=8700.0), HTML(value='')))"
      ]
     },
     "metadata": {},
     "output_type": "display_data"
    },
    {
     "name": "stdout",
     "output_type": "stream",
     "text": [
      "\n"
     ]
    }
   ],
   "source": [
    "lmfcc_test_x, mspec_test_x, _ = get_features(test_data,dynamic=False)"
   ]
  },
  {
   "cell_type": "code",
   "execution_count": 6,
   "metadata": {},
   "outputs": [
    {
     "data": {
      "text/plain": [
       "(1354605, 13)"
      ]
     },
     "execution_count": 6,
     "metadata": {},
     "output_type": "execute_result"
    }
   ],
   "source": [
    "lmfcc_train_x.shape"
   ]
  },
  {
   "cell_type": "code",
   "execution_count": 7,
   "metadata": {},
   "outputs": [
    {
     "data": {
      "text/plain": [
       "(1354605, 40)"
      ]
     },
     "execution_count": 7,
     "metadata": {},
     "output_type": "execute_result"
    }
   ],
   "source": [
    "mspec_train_x.shape"
   ]
  },
  {
   "cell_type": "code",
   "execution_count": 8,
   "metadata": {},
   "outputs": [
    {
     "data": {
      "text/plain": [
       "(1526682, 13)"
      ]
     },
     "execution_count": 8,
     "metadata": {},
     "output_type": "execute_result"
    }
   ],
   "source": [
    "lmfcc_test_x.shape"
   ]
  },
  {
   "cell_type": "code",
   "execution_count": 50,
   "metadata": {},
   "outputs": [
    {
     "data": {
      "text/plain": [
       "1359360"
      ]
     },
     "execution_count": 50,
     "metadata": {},
     "output_type": "execute_result"
    }
   ],
   "source": [
    "len(X)"
   ]
  },
  {
   "cell_type": "code",
   "execution_count": 51,
   "metadata": {},
   "outputs": [
    {
     "data": {
      "text/plain": [
       "1356259"
      ]
     },
     "execution_count": 51,
     "metadata": {},
     "output_type": "execute_result"
    }
   ],
   "source": [
    "len(Y)"
   ]
  },
  {
   "cell_type": "code",
   "execution_count": 9,
   "metadata": {},
   "outputs": [],
   "source": [
    "np.savez('lmfcc_train_x.npz', lmfcc_train_x=lmfcc_train_x)\n",
    "np.savez('lmfcc_val_x.npz', lmfcc_val_x=lmfcc_val_x)\n",
    "np.savez('lmfcc_test_x.npz', lmfcc_test_x=lmfcc_test_x)\n",
    "np.savez('mspec_train_x.npz', mspec_train_x=mspec_train_x)\n",
    "np.savez('mspec_val_x.npz', mspec_val_x=mspec_val_x)\n",
    "np.savez('mspec_test_x.npz', mspec_test_x=mspec_test_x)"
   ]
  },
  {
   "cell_type": "markdown",
   "metadata": {},
   "source": [
    "# Feature standardization"
   ]
  },
  {
   "cell_type": "code",
   "execution_count": 30,
   "metadata": {},
   "outputs": [],
   "source": [
    "stateList = np.load('statelist.npz',allow_pickle=True)['arr_0']\n",
    "output_dim = len(stateList)\n",
    "\n",
    "train_y = np.load('train_y.npz',allow_pickle=True)['train_y']\n",
    "val_y = np.load('val_y.npz',allow_pickle=True)['val_y']\n",
    "test_y = np.load('test_y.npz',allow_pickle=True)['test_y']"
   ]
  },
  {
   "cell_type": "code",
   "execution_count": 32,
   "metadata": {},
   "outputs": [
    {
     "data": {
      "text/plain": [
       "1354605"
      ]
     },
     "execution_count": 32,
     "metadata": {},
     "output_type": "execute_result"
    }
   ],
   "source": [
    "len(train_y)"
   ]
  },
  {
   "cell_type": "code",
   "execution_count": 36,
   "metadata": {},
   "outputs": [],
   "source": [
    "d_lmfcc_train = np.load('data/d_lmfcc_train.npz',allow_pickle=True)['d_lmfcc_train']"
   ]
  },
  {
   "cell_type": "code",
   "execution_count": 37,
   "metadata": {},
   "outputs": [
    {
     "ename": "NameError",
     "evalue": "name 'd_lmfcc_val' is not defined",
     "output_type": "error",
     "traceback": [
      "\u001b[0;31m---------------------------------------------------------------------------\u001b[0m",
      "\u001b[0;31mNameError\u001b[0m                                 Traceback (most recent call last)",
      "\u001b[0;32m<ipython-input-37-a9adcd09b81b>\u001b[0m in \u001b[0;36m<module>\u001b[0;34m\u001b[0m\n\u001b[1;32m      2\u001b[0m \u001b[0mscaler\u001b[0m\u001b[0;34m.\u001b[0m\u001b[0mfit_transform\u001b[0m\u001b[0;34m(\u001b[0m\u001b[0md_lmfcc_train\u001b[0m\u001b[0;34m)\u001b[0m\u001b[0;34m\u001b[0m\u001b[0;34m\u001b[0m\u001b[0m\n\u001b[1;32m      3\u001b[0m \u001b[0;34m\u001b[0m\u001b[0m\n\u001b[0;32m----> 4\u001b[0;31m \u001b[0mscaler\u001b[0m\u001b[0;34m.\u001b[0m\u001b[0mtransform\u001b[0m\u001b[0;34m(\u001b[0m\u001b[0md_lmfcc_val\u001b[0m\u001b[0;34m)\u001b[0m\u001b[0;34m\u001b[0m\u001b[0;34m\u001b[0m\u001b[0m\n\u001b[0m\u001b[1;32m      5\u001b[0m \u001b[0mscaler\u001b[0m\u001b[0;34m.\u001b[0m\u001b[0mtransform\u001b[0m\u001b[0;34m(\u001b[0m\u001b[0md_lmfcc_test\u001b[0m\u001b[0;34m)\u001b[0m\u001b[0;34m\u001b[0m\u001b[0;34m\u001b[0m\u001b[0m\n\u001b[1;32m      6\u001b[0m \u001b[0;34m\u001b[0m\u001b[0m\n",
      "\u001b[0;31mNameError\u001b[0m: name 'd_lmfcc_val' is not defined"
     ]
    }
   ],
   "source": [
    "scaler = StandardScaler(copy=False)\n",
    "scaler.fit_transform(d_lmfcc_train)\n",
    "\n",
    "scaler.transform(d_lmfcc_val)\n",
    "scaler.transform(d_lmfcc_test)\n",
    "\n",
    "targets_train = np_utils.to_categorical(train_y, output_dim)\n",
    "targets_val = np_utils.to_categorical(val_y, output_dim)\n",
    "targets_test = np_utils.to_categorical(test_y, output_dim)"
   ]
  },
  {
   "cell_type": "code",
   "execution_count": 35,
   "metadata": {},
   "outputs": [],
   "source": [
    "np.savez('lmfcc_train_s.npz', lmfcc_x=d_lmfcc_train, targets=targets_train)"
   ]
  },
  {
   "cell_type": "code",
   "execution_count": 36,
   "metadata": {},
   "outputs": [],
   "source": [
    "np.savez('lmfcc_val_s.npz', lmfcc_x=d_lmfcc_val, targets=targets_val)"
   ]
  },
  {
   "cell_type": "code",
   "execution_count": 37,
   "metadata": {},
   "outputs": [],
   "source": [
    "np.savez('lmfcc_test_s.npz', lmfcc_x=d_lmfcc_test, targets=targets_test)"
   ]
  },
  {
   "cell_type": "code",
   "execution_count": 11,
   "metadata": {},
   "outputs": [],
   "source": [
    "d_mspec_train = np.load('data/d_mspec_train.npz',allow_pickle=True)['d_mspec_train']\n",
    "d_mspec_val = np.load('data/d_mspec_val.npz',allow_pickle=True)['d_mspec_val']\n",
    "d_mspec_test = np.load('data/d_mspec_test.npz',allow_pickle=True)['d_mspec_test']"
   ]
  },
  {
   "cell_type": "code",
   "execution_count": 13,
   "metadata": {},
   "outputs": [],
   "source": [
    "scaler = StandardScaler(copy=False)\n",
    "scaler.fit_transform(d_mspec_train)\n",
    "\n",
    "scaler.transform(d_mspec_val)\n",
    "scaler.transform(d_mspec_test)\n",
    "\n",
    "targets_train = np_utils.to_categorical(train_y, output_dim)\n",
    "targets_val = np_utils.to_categorical(val_y, output_dim)\n",
    "targets_test = np_utils.to_categorical(test_y, output_dim)"
   ]
  },
  {
   "cell_type": "code",
   "execution_count": 14,
   "metadata": {},
   "outputs": [
    {
     "data": {
      "text/plain": [
       "(1354605, 280)"
      ]
     },
     "execution_count": 14,
     "metadata": {},
     "output_type": "execute_result"
    }
   ],
   "source": [
    "d_mspec_train.shape"
   ]
  },
  {
   "cell_type": "code",
   "execution_count": 15,
   "metadata": {},
   "outputs": [
    {
     "data": {
      "text/plain": [
       "1354605"
      ]
     },
     "execution_count": 15,
     "metadata": {},
     "output_type": "execute_result"
    }
   ],
   "source": [
    "len(targets_train)"
   ]
  },
  {
   "cell_type": "code",
   "execution_count": 16,
   "metadata": {},
   "outputs": [],
   "source": [
    "np.savez('mspec_train_s.npz', mspec_x=d_mspec_train, targets=targets_train)\n",
    "np.savez('mspec_val_s.npz', mspec_x=d_mspec_val, targets=targets_val)\n",
    "np.savez('mspec_test_s.npz', mspec_x=d_mspec_test, targets=targets_test)"
   ]
  },
  {
   "cell_type": "markdown",
   "metadata": {},
   "source": [
    "# non dynamic with standardization"
   ]
  },
  {
   "cell_type": "code",
   "execution_count": 17,
   "metadata": {},
   "outputs": [],
   "source": [
    "nd_mspec_train = np.load('data/mspec_train_x.npz',allow_pickle=True)['mspec_train_x']\n",
    "nd_mspec_val = np.load('data/mspec_val_x.npz',allow_pickle=True)['mspec_val_x']\n",
    "nd_mspec_test = np.load('data/mspec_test_x.npz',allow_pickle=True)['mspec_test_x']"
   ]
  },
  {
   "cell_type": "code",
   "execution_count": 18,
   "metadata": {},
   "outputs": [
    {
     "data": {
      "text/plain": [
       "array([[-1.57653019, -1.28155846, -1.27713497, ..., -1.05156597,\n",
       "        -0.90554375, -1.0252739 ],\n",
       "       [-1.5821835 , -1.34260223, -1.26027772, ..., -1.13299053,\n",
       "        -1.17955396, -0.98614677],\n",
       "       [-1.65155971, -1.29433833, -1.24469416, ..., -1.06115728,\n",
       "        -1.11918212, -1.09141447],\n",
       "       ...,\n",
       "       [-1.55353135, -1.474273  , -1.33145622, ..., -1.22307411,\n",
       "        -1.08899241, -1.1235334 ],\n",
       "       [-1.63634312, -1.50301701, -1.51215407, ..., -0.96098165,\n",
       "        -1.05290777, -1.05115951],\n",
       "       [-1.42706706, -1.33062547, -1.34970021, ..., -1.18904179,\n",
       "        -1.27074627, -0.9071792 ]])"
      ]
     },
     "execution_count": 18,
     "metadata": {},
     "output_type": "execute_result"
    }
   ],
   "source": [
    "scaler = StandardScaler(copy=False)\n",
    "scaler.fit_transform(nd_mspec_train)\n",
    "\n",
    "scaler.transform(nd_mspec_val)\n",
    "scaler.transform(nd_mspec_test)"
   ]
  },
  {
   "cell_type": "code",
   "execution_count": 19,
   "metadata": {},
   "outputs": [],
   "source": [
    "np.savez('nd_mspec_train_s.npz', mspec_x=nd_mspec_train, targets=targets_train)\n",
    "np.savez('nd_mspec_val_s.npz', mspec_x=nd_mspec_val, targets=targets_val)\n",
    "np.savez('nd_mspec_test_s.npz', mspec_x=nd_mspec_test, targets=targets_test)"
   ]
  },
  {
   "cell_type": "code",
   "execution_count": 20,
   "metadata": {},
   "outputs": [],
   "source": [
    "nd_lmfcc_train = np.load('data/lmfcc_train_x.npz',allow_pickle=True)['lmfcc_train_x']\n",
    "nd_lmfcc_val = np.load('data/lmfcc_val_x.npz',allow_pickle=True)['lmfcc_val_x']\n",
    "nd_lmfcc_test = np.load('data/lmfcc_test_x.npz',allow_pickle=True)['lmfcc_test_x']"
   ]
  },
  {
   "cell_type": "code",
   "execution_count": 21,
   "metadata": {},
   "outputs": [
    {
     "data": {
      "text/plain": [
       "array([[-1.38543394, -0.68716551,  0.57433372, ..., -1.01308215,\n",
       "         0.38238535,  1.14930945],\n",
       "       [-1.39259565, -0.77512107,  0.4963348 , ..., -0.07928852,\n",
       "         0.10483153, -0.6007093 ],\n",
       "       [-1.38817847, -0.757598  ,  0.33928986, ...,  0.28866588,\n",
       "         0.35665451,  0.2403985 ],\n",
       "       ...,\n",
       "       [-1.44163589, -0.76924561,  0.31654301, ..., -0.97911182,\n",
       "        -0.37312281,  0.06725762],\n",
       "       [-1.45822388, -0.76938505,  0.18697003, ...,  0.23978867,\n",
       "        -0.2103942 , -0.25219686],\n",
       "       [-1.49995334, -0.84360933,  0.68565916, ..., -1.14156832,\n",
       "         0.09947619,  0.70661795]])"
      ]
     },
     "execution_count": 21,
     "metadata": {},
     "output_type": "execute_result"
    }
   ],
   "source": [
    "scaler = StandardScaler(copy=False)\n",
    "scaler.fit_transform(nd_lmfcc_train)\n",
    "\n",
    "scaler.transform(nd_lmfcc_val)\n",
    "scaler.transform(nd_lmfcc_test)"
   ]
  },
  {
   "cell_type": "code",
   "execution_count": 22,
   "metadata": {},
   "outputs": [],
   "source": [
    "np.savez('nd_lmfcc_train_s.npz', lmfcc_x=nd_lmfcc_train, targets=targets_train)\n",
    "np.savez('nd_lmfcc_val_s.npz', lmfcc_x=nd_lmfcc_val, targets=targets_val)\n",
    "np.savez('nd_lmfcc_test_s.npz', lmfcc_x=nd_lmfcc_test, targets=targets_test)"
   ]
  },
  {
   "cell_type": "markdown",
   "metadata": {},
   "source": [
    "# model building"
   ]
  },
  {
   "cell_type": "code",
   "execution_count": 38,
   "metadata": {},
   "outputs": [],
   "source": [
    "X = None; Y = None; X_val = None; Y_val = None; X_test = None; Y_test = None\n",
    "\n",
    "# Load data\n",
    "with np.load('lmfcc_train_s.npz', allow_pickle=True) as data:\n",
    "    X = data['lmfcc_x']\n",
    "    Y = data['targets']\n",
    "with np.load('lmfcc_val_s.npz', allow_pickle=True) as data:\n",
    "    X_val = data['lmfcc_x']\n",
    "    Y_val = data['targets']\n",
    "with np.load('lmfcc_test_s.npz', allow_pickle=True) as data:\n",
    "    X_test = data['lmfcc_x']\n",
    "    Y_test = data['targets']"
   ]
  },
  {
   "cell_type": "code",
   "execution_count": 39,
   "metadata": {},
   "outputs": [
    {
     "name": "stdout",
     "output_type": "stream",
     "text": [
      "WARNING:tensorflow:From /Applications/anaconda3/lib/python3.7/site-packages/keras/backend/tensorflow_backend.py:74: The name tf.get_default_graph is deprecated. Please use tf.compat.v1.get_default_graph instead.\n",
      "\n",
      "WARNING:tensorflow:From /Applications/anaconda3/lib/python3.7/site-packages/keras/backend/tensorflow_backend.py:517: The name tf.placeholder is deprecated. Please use tf.compat.v1.placeholder instead.\n",
      "\n",
      "WARNING:tensorflow:From /Applications/anaconda3/lib/python3.7/site-packages/keras/backend/tensorflow_backend.py:4138: The name tf.random_uniform is deprecated. Please use tf.random.uniform instead.\n",
      "\n",
      "WARNING:tensorflow:From /Applications/anaconda3/lib/python3.7/site-packages/keras/optimizers.py:790: The name tf.train.Optimizer is deprecated. Please use tf.compat.v1.train.Optimizer instead.\n",
      "\n",
      "WARNING:tensorflow:From /Applications/anaconda3/lib/python3.7/site-packages/keras/backend/tensorflow_backend.py:3295: The name tf.log is deprecated. Please use tf.math.log instead.\n",
      "\n",
      "WARNING:tensorflow:From /Applications/anaconda3/lib/python3.7/site-packages/tensorflow/python/ops/math_grad.py:1250: add_dispatch_support.<locals>.wrapper (from tensorflow.python.ops.array_ops) is deprecated and will be removed in a future version.\n",
      "Instructions for updating:\n",
      "Use tf.where in 2.0, which has the same broadcast rule as np.where\n",
      "WARNING:tensorflow:From /Applications/anaconda3/lib/python3.7/site-packages/keras/backend/tensorflow_backend.py:986: The name tf.assign_add is deprecated. Please use tf.compat.v1.assign_add instead.\n",
      "\n",
      "Train on 1354605 samples, validate on 152452 samples\n",
      "Epoch 1/5\n",
      "1354605/1354605 [==============================] - 153s 113us/step - loss: 0.8268 - acc: 0.7317 - val_loss: 0.7150 - val_acc: 0.7640\n",
      "Epoch 2/5\n",
      "1354605/1354605 [==============================] - 88s 65us/step - loss: 0.6573 - acc: 0.7809 - val_loss: 0.6504 - val_acc: 0.7829\n",
      "Epoch 3/5\n",
      "1354605/1354605 [==============================] - 64s 47us/step - loss: 0.6111 - acc: 0.7942 - val_loss: 0.6236 - val_acc: 0.7905\n",
      "Epoch 4/5\n",
      "1354605/1354605 [==============================] - 63s 47us/step - loss: 0.5823 - acc: 0.8022 - val_loss: 0.6074 - val_acc: 0.7947\n",
      "Epoch 5/5\n",
      "1354605/1354605 [==============================] - 63s 46us/step - loss: nan - acc: 0.3843 - val_loss: nan - val_acc: 0.0133\n"
     ]
    },
    {
     "data": {
      "text/plain": [
       "<keras.callbacks.History at 0x1a5b859438>"
      ]
     },
     "execution_count": 39,
     "metadata": {},
     "output_type": "execute_result"
    }
   ],
   "source": [
    "model = Sequential()\n",
    "model.add(Dense(256, input_shape=(X.shape[1],), activation='relu') )\n",
    "model.add(Dense(256, activation='relu'))\n",
    "model.add(Dense(Y.shape[1], activation='sigmoid'))\n",
    "model.compile(optimizer='adam',loss='categorical_crossentropy', metrics=['accuracy'])\n",
    "model.fit(X, Y, epochs=5, batch_size=256, validation_data = (X_val, Y_val))\n"
   ]
  },
  {
   "cell_type": "code",
   "execution_count": 8,
   "metadata": {},
   "outputs": [
    {
     "data": {
      "text/plain": [
       "58880"
      ]
     },
     "execution_count": 8,
     "metadata": {},
     "output_type": "execute_result"
    }
   ],
   "source": [
    "len(test_example)"
   ]
  },
  {
   "cell_type": "code",
   "execution_count": 3,
   "metadata": {},
   "outputs": [
    {
     "name": "stderr",
     "output_type": "stream",
     "text": [
      "/Users/flora/Desktop/KU/DT2119/lab3/dt2119_lab3_2019-04-25/lab3_proto.py:58: RuntimeWarning: divide by zero encountered in log\n",
      "  np.log(utteranceHMM['startprob']),\n",
      "/Users/flora/Desktop/KU/DT2119/lab3/dt2119_lab3_2019-04-25/lab3_proto.py:59: RuntimeWarning: divide by zero encountered in log\n",
      "  np.log(utteranceHMM['transmat']),\n"
     ]
    }
   ],
   "source": [
    "filename = 'tidigits/disc_4.1.1/tidigits/train/man/nw/z43a.wav'\n",
    "test_example, _= loadAudio(filename)\n",
    "lmfcc = mfcc(test_example)\n",
    "wordTrans = list(path2info(filename)[2])\n",
    "phoneTrans = words2phones(wordTrans, prondict)\n",
    "targets = forcedAlignment(lmfcc, phoneHMMs, phoneTrans)\n",
    "targets = [stateList.index(t) for t in targets]"
   ]
  },
  {
   "cell_type": "code",
   "execution_count": 11,
   "metadata": {},
   "outputs": [
    {
     "data": {
      "text/plain": [
       "array([ -22.91392389, -189.9582419 ,    7.40105799,  -95.76025599,\n",
       "          4.7085325 ,  148.59745875,  118.13340686, -110.0042846 ,\n",
       "        113.10298469,   53.95547105, -112.7883752 ,   41.12045179,\n",
       "        -12.04285405])"
      ]
     },
     "execution_count": 11,
     "metadata": {},
     "output_type": "execute_result"
    }
   ],
   "source": [
    "lmfcc[0]"
   ]
  },
  {
   "cell_type": "code",
   "execution_count": 10,
   "metadata": {},
   "outputs": [
    {
     "ename": "TypeError",
     "evalue": "'int' object is not subscriptable",
     "output_type": "error",
     "traceback": [
      "\u001b[0;31m---------------------------------------------------------------------------\u001b[0m",
      "\u001b[0;31mTypeError\u001b[0m                                 Traceback (most recent call last)",
      "\u001b[0;32m<ipython-input-10-8eab3ae5b1e3>\u001b[0m in \u001b[0;36m<module>\u001b[0;34m\u001b[0m\n\u001b[0;32m----> 1\u001b[0;31m \u001b[0mlen\u001b[0m\u001b[0;34m(\u001b[0m\u001b[0mtargets\u001b[0m\u001b[0;34m)\u001b[0m\u001b[0;34m[\u001b[0m\u001b[0;36m0\u001b[0m\u001b[0;34m]\u001b[0m\u001b[0;34m[\u001b[0m\u001b[0;34m:\u001b[0m\u001b[0;36m10\u001b[0m\u001b[0;34m]\u001b[0m\u001b[0;34m\u001b[0m\u001b[0;34m\u001b[0m\u001b[0m\n\u001b[0m",
      "\u001b[0;31mTypeError\u001b[0m: 'int' object is not subscriptable"
     ]
    }
   ],
   "source": [
    "len(targets)"
   ]
  },
  {
   "cell_type": "code",
   "execution_count": 49,
   "metadata": {},
   "outputs": [
    {
     "data": {
      "text/plain": [
       "['z', '4', '3']"
      ]
     },
     "execution_count": 49,
     "metadata": {},
     "output_type": "execute_result"
    }
   ],
   "source": [
    "wordTrans"
   ]
  },
  {
   "cell_type": "code",
   "execution_count": 13,
   "metadata": {},
   "outputs": [
    {
     "data": {
      "text/plain": [
       "(178, 13)"
      ]
     },
     "execution_count": 13,
     "metadata": {},
     "output_type": "execute_result"
    }
   ],
   "source": [
    "lmfcc.shape"
   ]
  },
  {
   "cell_type": "code",
   "execution_count": 7,
   "metadata": {},
   "outputs": [],
   "source": [
    "def get_d_features(data):\n",
    "    mfcc_features = np.zeros((178, 13*7))\n",
    "    for j in range(178):\n",
    "        for k in range(13):\n",
    "            if k < 3 or k >= 10:\n",
    "                mfcc_features[j,k*7:k*7+7] = np.pad(data[j,:],(3, 3),mode='reflect')[k:k+7]\n",
    "            else:\n",
    "                mfcc_features[j,k*7:k*7+7] = data[j, k-3:k+4]\n",
    "    \n",
    "    return mfcc_features"
   ]
  },
  {
   "cell_type": "code",
   "execution_count": 8,
   "metadata": {},
   "outputs": [],
   "source": [
    "d_mfcc = get_d_features(lmfcc)"
   ]
  },
  {
   "cell_type": "code",
   "execution_count": 12,
   "metadata": {},
   "outputs": [
    {
     "data": {
      "text/plain": [
       "array([ -95.76025599,    7.40105799, -189.9582419 ,  -22.91392389,\n",
       "       -189.9582419 ,    7.40105799,  -95.76025599,    7.40105799,\n",
       "       -189.9582419 ,  -22.91392389, -189.9582419 ,    7.40105799,\n",
       "        -95.76025599,    4.7085325 , -189.9582419 ,  -22.91392389,\n",
       "       -189.9582419 ,    7.40105799,  -95.76025599,    4.7085325 ,\n",
       "        148.59745875,  -22.91392389, -189.9582419 ,    7.40105799,\n",
       "        -95.76025599,    4.7085325 ,  148.59745875,  118.13340686,\n",
       "       -189.9582419 ,    7.40105799,  -95.76025599,    4.7085325 ,\n",
       "        148.59745875,  118.13340686, -110.0042846 ,    7.40105799,\n",
       "        -95.76025599,    4.7085325 ,  148.59745875,  118.13340686,\n",
       "       -110.0042846 ,  113.10298469,  -95.76025599,    4.7085325 ,\n",
       "        148.59745875,  118.13340686, -110.0042846 ,  113.10298469,\n",
       "         53.95547105,    4.7085325 ,  148.59745875,  118.13340686,\n",
       "       -110.0042846 ,  113.10298469,   53.95547105, -112.7883752 ,\n",
       "        148.59745875,  118.13340686, -110.0042846 ,  113.10298469,\n",
       "         53.95547105, -112.7883752 ,   41.12045179,  118.13340686,\n",
       "       -110.0042846 ,  113.10298469,   53.95547105, -112.7883752 ,\n",
       "         41.12045179,  -12.04285405, -110.0042846 ,  113.10298469,\n",
       "         53.95547105, -112.7883752 ,   41.12045179,  -12.04285405,\n",
       "         41.12045179,  113.10298469,   53.95547105, -112.7883752 ,\n",
       "         41.12045179,  -12.04285405,   41.12045179, -112.7883752 ,\n",
       "         53.95547105, -112.7883752 ,   41.12045179,  -12.04285405,\n",
       "         41.12045179, -112.7883752 ,   53.95547105])"
      ]
     },
     "execution_count": 12,
     "metadata": {},
     "output_type": "execute_result"
    }
   ],
   "source": [
    "d_mfcc[0]"
   ]
  },
  {
   "cell_type": "code",
   "execution_count": 45,
   "metadata": {},
   "outputs": [],
   "source": [
    "d_mfcc = scaler.transform(d_mfcc)"
   ]
  },
  {
   "cell_type": "code",
   "execution_count": 48,
   "metadata": {},
   "outputs": [],
   "source": [
    "np.savez('test_z43a.npz',features=d_mfcc, targets=targets )"
   ]
  },
  {
   "cell_type": "code",
   "execution_count": 15,
   "metadata": {},
   "outputs": [],
   "source": [
    "d_lmfcc_train = np.load('data/d_lmfcc_train.npz',allow_pickle=True)['d_lmfcc_train']"
   ]
  },
  {
   "cell_type": "code",
   "execution_count": 16,
   "metadata": {},
   "outputs": [
    {
     "data": {
      "text/plain": [
       "array([[-1.51275927, -0.15233423,  0.11455398, ..., -0.12505802,\n",
       "         0.2289835 , -0.28767328],\n",
       "       [-1.51168861, -0.15341222,  0.11462786, ..., -0.13669546,\n",
       "         0.22973936, -0.2927499 ],\n",
       "       [-1.51236982, -0.15440408,  0.11417378, ..., -0.1277345 ,\n",
       "         0.22970169, -0.29330938],\n",
       "       ...,\n",
       "       [-1.51265691, -0.15295928,  0.12062995, ..., -0.13126052,\n",
       "         0.22326076, -0.28560796],\n",
       "       [-1.51079325, -0.15312734,  0.11995117, ..., -0.13086648,\n",
       "         0.23206118, -0.28590031],\n",
       "       [-1.51136868, -0.15388852,  0.11965901, ..., -0.12592719,\n",
       "         0.2312587 , -0.28863562]])"
      ]
     },
     "execution_count": 16,
     "metadata": {},
     "output_type": "execute_result"
    }
   ],
   "source": [
    "scaler = StandardScaler(copy=False)\n",
    "scaler.fit(d_lmfcc_train)\n",
    "scaler.transform(d_mfcc)"
   ]
  },
  {
   "cell_type": "code",
   "execution_count": null,
   "metadata": {},
   "outputs": [],
   "source": [
    "scaler = StandardScaler(copy=False)\n",
    "scaler.fit_transform(d_mfcc)"
   ]
  },
  {
   "cell_type": "code",
   "execution_count": 17,
   "metadata": {},
   "outputs": [],
   "source": [
    "np.savez('test_z43a1.npz',features=d_mfcc, targets=targets )"
   ]
  },
  {
   "cell_type": "code",
   "execution_count": null,
   "metadata": {},
   "outputs": [],
   "source": []
  }
 ],
 "metadata": {
  "kernelspec": {
   "display_name": "Python 3",
   "language": "python",
   "name": "python3"
  },
  "language_info": {
   "codemirror_mode": {
    "name": "ipython",
    "version": 3
   },
   "file_extension": ".py",
   "mimetype": "text/x-python",
   "name": "python",
   "nbconvert_exporter": "python",
   "pygments_lexer": "ipython3",
   "version": "3.7.1"
  }
 },
 "nbformat": 4,
 "nbformat_minor": 2
}
